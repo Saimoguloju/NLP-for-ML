{
 "cells": [
  {
   "cell_type": "markdown",
   "id": "f9a02028",
   "metadata": {},
   "source": [
    "![python logo](https://encrypted-tbn0.gstatic.com/images?q=tbn:ANd9GcQeZwof-d58Szs3iUoCuuRdk9xsjMwd0Db3-g&s)"
   ]
  },
  {
   "cell_type": "code",
   "execution_count": 1,
   "id": "82e2873b",
   "metadata": {},
   "outputs": [],
   "source": [
    "words = ['eating','eat','eaten','writing','writes','programming','programs','gone','goes','go',]"
   ]
  },
  {
   "cell_type": "code",
   "execution_count": 2,
   "id": "3499ec91",
   "metadata": {},
   "outputs": [],
   "source": [
    "# Method - 1\n",
    "from nltk.stem import PorterStemmer"
   ]
  },
  {
   "cell_type": "code",
   "execution_count": 3,
   "id": "2b50cd33",
   "metadata": {},
   "outputs": [],
   "source": [
    "porter_stemming = PorterStemmer()"
   ]
  },
  {
   "cell_type": "code",
   "execution_count": 4,
   "id": "a13142e6",
   "metadata": {},
   "outputs": [
    {
     "name": "stdout",
     "output_type": "stream",
     "text": [
      "eating----->eat\n",
      "eat----->eat\n",
      "eaten----->eaten\n",
      "writing----->write\n",
      "writes----->write\n",
      "programming----->program\n",
      "programs----->program\n",
      "gone----->gone\n",
      "goes----->goe\n",
      "go----->go\n"
     ]
    }
   ],
   "source": [
    "for word in words:\n",
    "    print(word+\"----->\"+porter_stemming.stem(word))"
   ]
  },
  {
   "cell_type": "code",
   "execution_count": 5,
   "id": "762d5c2e",
   "metadata": {},
   "outputs": [
    {
     "data": {
      "text/plain": [
       "'congratul'"
      ]
     },
     "execution_count": 5,
     "metadata": {},
     "output_type": "execute_result"
    }
   ],
   "source": [
    "porter_stemming.stem(\"congratulations\")"
   ]
  },
  {
   "cell_type": "code",
   "execution_count": 6,
   "id": "ec46c4df",
   "metadata": {},
   "outputs": [
    {
     "data": {
      "text/plain": [
       "'mogulojusai'"
      ]
     },
     "execution_count": 6,
     "metadata": {},
     "output_type": "execute_result"
    }
   ],
   "source": [
    "porter_stemming.stem(\"MogulojuSai\")"
   ]
  },
  {
   "cell_type": "code",
   "execution_count": 7,
   "id": "b549b96e",
   "metadata": {},
   "outputs": [],
   "source": [
    "# Method -2\n",
    "from nltk.stem.regexp import RegexpStemmer"
   ]
  },
  {
   "cell_type": "code",
   "execution_count": 8,
   "id": "519b289c",
   "metadata": {},
   "outputs": [],
   "source": [
    "regexp_stemmer = RegexpStemmer('ing$|s$|e$|able$', min=4)"
   ]
  },
  {
   "cell_type": "code",
   "execution_count": 9,
   "id": "dcfcf5f1",
   "metadata": {},
   "outputs": [
    {
     "name": "stdout",
     "output_type": "stream",
     "text": [
      "eating----->eat\n",
      "eat----->eat\n",
      "eaten----->eaten\n",
      "writing----->writ\n",
      "writes----->write\n",
      "programming----->programm\n",
      "programs----->program\n",
      "gone----->gon\n",
      "goes----->goe\n",
      "go----->go\n"
     ]
    }
   ],
   "source": [
    "for word in words:\n",
    "    print(word+\"----->\"+regexp_stemmer.stem(word))"
   ]
  },
  {
   "cell_type": "code",
   "execution_count": 10,
   "id": "9ff5e9f1",
   "metadata": {},
   "outputs": [
    {
     "data": {
      "text/plain": [
       "'ingeat'"
      ]
     },
     "execution_count": 10,
     "metadata": {},
     "output_type": "execute_result"
    }
   ],
   "source": [
    "regexp_stemmer.stem('ingeating')"
   ]
  },
  {
   "cell_type": "code",
   "execution_count": 11,
   "id": "0fbcc188",
   "metadata": {},
   "outputs": [
    {
     "data": {
      "text/plain": [
       "('fairly', 'sportingly')"
      ]
     },
     "execution_count": 11,
     "metadata": {},
     "output_type": "execute_result"
    }
   ],
   "source": [
    "regexp_stemmer.stem(\"fairly\"),regexp_stemmer.stem(\"sportingly\")"
   ]
  },
  {
   "cell_type": "code",
   "execution_count": 12,
   "id": "3f0e8ad3",
   "metadata": {},
   "outputs": [],
   "source": [
    "# Method - 3\n",
    "from nltk.stem import SnowballStemmer"
   ]
  },
  {
   "cell_type": "code",
   "execution_count": 13,
   "id": "bbb70813",
   "metadata": {},
   "outputs": [],
   "source": [
    "snowball_stemmer = SnowballStemmer('english')"
   ]
  },
  {
   "cell_type": "code",
   "execution_count": 14,
   "id": "09e802a9",
   "metadata": {},
   "outputs": [
    {
     "name": "stdout",
     "output_type": "stream",
     "text": [
      "eating---->eat\n",
      "eat---->eat\n",
      "eaten---->eaten\n",
      "writing---->write\n",
      "writes---->write\n",
      "programming---->program\n",
      "programs---->program\n",
      "gone---->gone\n",
      "goes---->goe\n",
      "go---->go\n"
     ]
    }
   ],
   "source": [
    "for word in words:\n",
    "    print(word+\"---->\"+snowball_stemmer.stem(word))"
   ]
  },
  {
   "cell_type": "code",
   "execution_count": 15,
   "id": "d86d9f3e",
   "metadata": {},
   "outputs": [
    {
     "data": {
      "text/plain": [
       "('fair', 'sport')"
      ]
     },
     "execution_count": 15,
     "metadata": {},
     "output_type": "execute_result"
    }
   ],
   "source": [
    "snowball_stemmer.stem(\"fairly\"),snowball_stemmer.stem(\"sportingly\")"
   ]
  },
  {
   "cell_type": "code",
   "execution_count": 16,
   "id": "070f457a",
   "metadata": {},
   "outputs": [],
   "source": [
    "# Method - 4\n",
    "from nltk.stem import LancasterStemmer"
   ]
  },
  {
   "cell_type": "code",
   "execution_count": 17,
   "id": "f3a7589a",
   "metadata": {},
   "outputs": [],
   "source": [
    "lancanster_stemmer = LancasterStemmer()"
   ]
  },
  {
   "cell_type": "code",
   "execution_count": 18,
   "id": "071d5f09",
   "metadata": {},
   "outputs": [
    {
     "name": "stdout",
     "output_type": "stream",
     "text": [
      "eating---->eat\n",
      "eat---->eat\n",
      "eaten---->eat\n",
      "writing---->writ\n",
      "writes---->writ\n",
      "programming---->program\n",
      "programs---->program\n",
      "gone---->gon\n",
      "goes---->goe\n",
      "go---->go\n"
     ]
    }
   ],
   "source": [
    "for word in words:\n",
    "    print(word+\"---->\"+ lancanster_stemmer.stem(word))"
   ]
  },
  {
   "cell_type": "code",
   "execution_count": 19,
   "id": "9c46abab",
   "metadata": {},
   "outputs": [
    {
     "data": {
      "text/plain": [
       "('fair', 'sport')"
      ]
     },
     "execution_count": 19,
     "metadata": {},
     "output_type": "execute_result"
    }
   ],
   "source": [
    "lancanster_stemmer.stem(\"fairly\"),lancanster_stemmer.stem(\"sportingly\")"
   ]
  },
  {
   "cell_type": "markdown",
   "id": "961b2b4c",
   "metadata": {},
   "source": [
    "###### Stemming is a text normalization technique that reduces words to their root or stem form. This helps in reducing the vocabulary size and improving the accuracy of text analysis tasks. Here's a comparison of the four common stemming techniques:\n",
    "\n",
    "1. Porter Stemmer\n",
    "- Key Features:\n",
    "- One of the oldest and most widely used stemmers.\n",
    "- Removes suffixes like -s, -es, -ed, -ing, etc.\n",
    "- Strengths:\n",
    "- Simple and efficient.\n",
    "- Widely used and well-understood.\n",
    "- Weaknesses:\n",
    "- Can be overly aggressive, sometimes producing stems that are not valid words.\n",
    "2. Regexp Stemmer\n",
    "- Key Features:\n",
    "- Allows you to define custom stemming rules using regular expressions.\n",
    "- Provides flexibility for domain-specific stemming.\n",
    "- Strengths:\n",
    "- Customizable to specific needs.\n",
    "- Weaknesses:\n",
    "- Requires knowledge of regular expressions.\n",
    "- Can be less efficient than other stemmers.\n",
    "3. Snowball Stemmer\n",
    "- Key Features:\n",
    "- An improved version of the Porter stemmer.\n",
    "- Supports multiple languages and offers better stemming accuracy.\n",
    "- Strengths:\n",
    "- More accurate than the Porter stemmer.\n",
    "- Supports multiple languages.\n",
    "- Weaknesses:\n",
    "- Can be more aggressive than the Porter stemmer, sometimes producing over-stemmed words.\n",
    "4. Lancaster Stemmer\n",
    "- Key Features:\n",
    "- A very aggressive stemmer that removes suffixes more aggressively than the Porter stemmer.\n",
    "- Strengths:\n",
    "- Can reduce words to their root form very effectively.\n",
    "- Weaknesses:\n",
    "- Can sometimes over-stem words, producing non-meaningful stems."
   ]
  },
  {
   "cell_type": "markdown",
   "id": "70776497",
   "metadata": {},
   "source": []
  },
  {
   "cell_type": "code",
   "execution_count": null,
   "id": "c482a611",
   "metadata": {},
   "outputs": [],
   "source": []
  },
  {
   "cell_type": "code",
   "execution_count": null,
   "id": "e23256b2",
   "metadata": {},
   "outputs": [],
   "source": []
  },
  {
   "cell_type": "code",
   "execution_count": null,
   "id": "b06974be",
   "metadata": {},
   "outputs": [],
   "source": []
  },
  {
   "cell_type": "code",
   "execution_count": null,
   "id": "fab352e6",
   "metadata": {},
   "outputs": [],
   "source": []
  }
 ],
 "metadata": {
  "kernelspec": {
   "display_name": "Python 3 (ipykernel)",
   "language": "python",
   "name": "python3"
  },
  "language_info": {
   "codemirror_mode": {
    "name": "ipython",
    "version": 3
   },
   "file_extension": ".py",
   "mimetype": "text/x-python",
   "name": "python",
   "nbconvert_exporter": "python",
   "pygments_lexer": "ipython3",
   "version": "3.10.9"
  }
 },
 "nbformat": 4,
 "nbformat_minor": 5
}
