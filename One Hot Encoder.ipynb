{
 "cells": [
  {
   "cell_type": "code",
   "execution_count": 1,
   "id": "710d7596",
   "metadata": {},
   "outputs": [
    {
     "name": "stdout",
     "output_type": "stream",
     "text": [
      "Sentences 1:\n",
      "The: [0. 0. 0. 0. 0. 0. 0. 0. 0. 0. 0. 0. 1.]\n",
      "cat: [0. 0. 1. 0. 0. 0. 0. 0. 0. 0. 0. 0. 0.]\n",
      "sat: [0. 0. 0. 0. 0. 1. 0. 0. 0. 0. 0. 0. 0.]\n",
      "on: [0. 0. 0. 0. 0. 0. 0. 0. 0. 1. 0. 0. 0.]\n",
      "the: [0. 0. 0. 0. 0. 0. 0. 0. 0. 0. 0. 0. 1.]\n",
      "mat.: [0. 1. 0. 0. 0. 0. 0. 0. 0. 0. 0. 0. 0.]\n",
      "Sentences 2:\n",
      "The: [0. 0. 0. 0. 0. 0. 0. 0. 0. 0. 0. 0. 1.]\n",
      "dog: [0. 0. 0. 0. 0. 0. 0. 0. 0. 0. 1. 0. 0.]\n",
      "chased: [0. 0. 0. 0. 0. 0. 0. 0. 0. 0. 0. 1. 0.]\n",
      "the: [0. 0. 0. 0. 0. 0. 0. 0. 0. 0. 0. 0. 1.]\n",
      "cat.: [0. 0. 0. 1. 0. 0. 0. 0. 0. 0. 0. 0. 0.]\n",
      "Sentences 3:\n",
      "The: [0. 0. 0. 0. 0. 0. 0. 0. 0. 0. 0. 0. 1.]\n",
      "mat: [0. 0. 0. 0. 0. 0. 0. 0. 1. 0. 0. 0. 0.]\n",
      "was: [1. 0. 0. 0. 0. 0. 0. 0. 0. 0. 0. 0. 0.]\n",
      "soft: [0. 0. 0. 0. 1. 0. 0. 0. 0. 0. 0. 0. 0.]\n",
      "and: [0. 0. 0. 0. 0. 0. 0. 1. 0. 0. 0. 0. 0.]\n",
      "fluffy.: [0. 0. 0. 0. 0. 0. 1. 0. 0. 0. 0. 0. 0.]\n"
     ]
    }
   ],
   "source": [
    
    "import numpy as np\n",
    "\n",
    "# Define the sentences\n",
    "sentences = [\n",
    "    'The cat sat on the mat.',\n",
    "    'The dog chased the cat.',\n",
    "    'The mat was soft and fluffy.'\n",
    "]\n",
    "\n",
    "# Create a vocabulary set\n",
    "vocab = set()\n",
    "for sentence in sentences:\n",
    "    words = sentence.lower().split()\n",
    "    for word in words:\n",
    "        vocab.add(word)\n",
    "\n",
    "# Create a dictionary to map words to integers\n",
    "word_to_int = {word: i for i, word in enumerate(vocab)}\n",
    "\n",
    "# Create a binary vector for each word in each sentence\n",
    "vectors = []\n",
    "for sentence in sentences:\n",
    "    words = sentence.lower().split()\n",
    "    sentence_vectors = []\n",
    "    for word in words:\n",
    "        binary_vector = np.zeros(len(vocab))\n",
    "        binary_vector[word_to_int[word]] = 1\n",
    "        sentence_vectors.append(binary_vector)\n",
    "    vectors.append(sentence_vectors)\n",
    "\n",
    "# Print the one-hot encoded vectors for each word in each sentence\n",
    "for i in range(len(sentences)):\n",
    "    print(f\"Sentences {i + 1}:\")\n",
    "    for j in range(len(vectors[i])):\n",
    "        print(f\"{sentences[i].split()[j]}: {vectors[i][j]}\")"
   ]
  },
  {
   "cell_type": "markdown",
   "id": "2b051c07",
   "metadata": {},
   "source": [
    "**One-hot encoding is a popular technique used in NLP to represent categorical data, such as words in a vocabulary. It involves creating a binary vector where each element corresponds to a unique category. Let's delve into its advantages and disadvantages:\n",
    "\n",
    "#### Advantages:\n",
    "\n",
    "- Simplicity: It's a straightforward and easily understandable technique.\n",
    "- Clarity: Each category is represented by a distinct vector, making it easy to interpret.\n",
    "- Compatibility: It's suitable for various machine learning models, including those that require numerical input.\n",
    "\n",
    "#### Disadvantages:\n",
    "\n",
    "- High Dimensionality: As the vocabulary size increases, the dimensionality of the feature space also increases significantly, leading to sparse vectors. This can be computationally expensive and can negatively impact model performance.\n",
    "- Lack of Semantic Similarity: One-hot encoding treats each word as an independent entity, ignoring semantic relationships between words. This can hinder the model's ability to capture nuances and context.\n",
    "- Curse of Dimensionality: High-dimensional spaces can suffer from the curse of dimensionality, where the distance between data   points becomes less meaningful, making it difficult for models to learn effective representations.\n",
    " \n",
    "#### When to Use One-Hot Encoding:\n",
    "\n",
    "- While one-hot encoding is a simple technique, it's often not the best choice for complex NLP tasks. It's more suitable for scenarios where:\n",
    "\n",
    "- Vocabulary size is relatively small: For small vocabularies, the dimensionality issue is less pronounced.\n",
    "- Semantic relationships are not crucial: If the task doesn't heavily rely on understanding the semantic meaning of words, one-hot encoding can be sufficient.\n",
    "- Baseline models: It can serve as a baseline to compare against more advanced techniques."
   ]
  },
  {
   "cell_type": "code",
   "execution_count": null,
   "id": "319e688d",
   "metadata": {},
   "outputs": [],
   "source": []
  }
 ],
 "metadata": {
  "kernelspec": {
   "display_name": "Python 3 (ipykernel)",
   "language": "python",
   "name": "python3"
  },
  "language_info": {
   "codemirror_mode": {
    "name": "ipython",
    "version": 3
   },
   "file_extension": ".py",
   "mimetype": "text/x-python",
   "name": "python",
   "nbconvert_exporter": "python",
   "pygments_lexer": "ipython3",
   "version": "3.10.9"
  }
 },
 "nbformat": 4,
 "nbformat_minor": 5
}
