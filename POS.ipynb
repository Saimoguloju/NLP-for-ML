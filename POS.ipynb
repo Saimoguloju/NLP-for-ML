{
 "cells": [
  {
   "cell_type": "markdown",
   "id": "ea8ee878",
   "metadata": {},
   "source": [
    "![Pyt"
   ]
  },
  {
   "cell_type": "code",
   "execution_count": 17,
   "id": "77c329f1",
   "metadata": {},
   "outputs": [],
   "source": [
    "paragraph = \"\"\"Hello, my name is Moguloju Sai, and I recently graduated with a specialization in Data Science. I have hands-on experience with Machine Learning, Data Science, and Data Engineering, complemented by internships as a Junior Data Scientist, where I worked on projects such as chronic kidney disease detection and fake news detection using NLP.\n",
    "My technical skills include Python, Java, MySQL, and I am also proficient with various machine learning frameworks. Currently, I am pursuing opportunities in Data Science and MLOps, where I aim to contribute to impactful data-driven projects. Alongside, I manage an active LinkedIn network and a YouTube channel where I share content related to Python, Machine Learning, and Data Science, which has garnered over 10K followers. I am also a tutor at IQ Tuition Centre, supporting students with my knowledge and experience.\n",
    "My goal is to become a Data Scientist, and I aspire to transition towards MLOps to build robust, scalable data solutions. Thank you!\"\"\""
   ]
  },
  {
   "cell_type": "code",
   "execution_count": 18,
   "id": "8342e4ed",
   "metadata": {},
   "outputs": [
    {
     "name": "stdout",
     "output_type": "stream",
     "text": [
      "Hello, my name is Moguloju Sai, and I recently graduated with a specialization in Data Science. I have hands-on experience with Machine Learning, Data Science, and Data Engineering, complemented by internships as a Junior Data Scientist, where I worked on projects such as chronic kidney disease detection and fake news detection using NLP.\n",
      "My technical skills include Python, Java, MySQL, and I am also proficient with various machine learning frameworks. Currently, I am pursuing opportunities in Data Science and MLOps, where I aim to contribute to impactful data-driven projects. Alongside, I manage an active LinkedIn network and a YouTube channel where I share content related to Python, Machine Learning, and Data Science, which has garnered over 10K followers. I am also a tutor at IQ Tuition Centre, supporting students with my knowledge and experience.\n",
      "My goal is to become a Data Scientist, and I aspire to transition towards MLOps to build robust, scalable data solutions. Thank you!\n"
     ]
    }
   ],
   "source": [
    "print(paragraph)"
   ]
  },
  {
   "cell_type": "code",
   "execution_count": 19,
   "id": "ef7d0204",
   "metadata": {},
   "outputs": [],
   "source": [
    "import nltk\n",
    "from nltk.corpus import stopwords\n",
    "sentences = nltk.sent_tokenize(paragraph)"
   ]
  },
  {
   "cell_type": "code",
   "execution_count": 20,
   "id": "01fb6099",
   "metadata": {},
   "outputs": [
    {
     "data": {
      "text/plain": [
       "['Hello, my name is Moguloju Sai, and I recently graduated with a specialization in Data Science.',\n",
       " 'I have hands-on experience with Machine Learning, Data Science, and Data Engineering, complemented by internships as a Junior Data Scientist, where I worked on projects such as chronic kidney disease detection and fake news detection using NLP.',\n",
       " 'My technical skills include Python, Java, MySQL, and I am also proficient with various machine learning frameworks.',\n",
       " 'Currently, I am pursuing opportunities in Data Science and MLOps, where I aim to contribute to impactful data-driven projects.',\n",
       " 'Alongside, I manage an active LinkedIn network and a YouTube channel where I share content related to Python, Machine Learning, and Data Science, which has garnered over 10K followers.',\n",
       " 'I am also a tutor at IQ Tuition Centre, supporting students with my knowledge and experience.',\n",
       " 'My goal is to become a Data Scientist, and I aspire to transition towards MLOps to build robust, scalable data solutions.',\n",
       " 'Thank you!']"
      ]
     },
     "execution_count": 20,
     "metadata": {},
     "output_type": "execute_result"
    }
   ],
   "source": [
    "sentences"
   ]
  },
  {
   "cell_type": "code",
   "execution_count": 11,
   "id": "91178e47",
   "metadata": {},
   "outputs": [
    {
     "name": "stdout",
     "output_type": "stream",
     "text": [
      "[('Hello', 'NNP'), (',', ','), ('name', 'NN'), ('Moguloju', 'NNP'), ('Sai', 'NNP'), (',', ','), ('I', 'PRP'), ('recently', 'RB'), ('graduated', 'VBD'), ('specialization', 'NN'), ('Data', 'NNP'), ('Science', 'NNP'), ('.', '.')]\n",
      "[('I', 'PRP'), ('hands-on', 'JJ'), ('experience', 'NN'), ('Machine', 'NNP'), ('Learning', 'NNP'), (',', ','), ('Data', 'NNP'), ('Science', 'NNP'), (',', ','), ('Data', 'NNP'), ('Engineering', 'NNP'), (',', ','), ('complemented', 'VBD'), ('internships', 'NNS'), ('Junior', 'NNP'), ('Data', 'NNP'), ('Scientist', 'NNP'), (',', ','), ('I', 'PRP'), ('worked', 'VBD'), ('projects', 'NNS'), ('chronic', 'JJ'), ('kidney', 'NN'), ('disease', 'NN'), ('detection', 'NN'), ('fake', 'VBP'), ('news', 'NN'), ('detection', 'NN'), ('using', 'VBG'), ('NLP', 'NNP'), ('.', '.')]\n",
      "[('My', 'PRP$'), ('technical', 'JJ'), ('skills', 'NNS'), ('include', 'VBP'), ('Python', 'NNP'), (',', ','), ('Java', 'NNP'), (',', ','), ('MySQL', 'NNP'), (',', ','), ('I', 'PRP'), ('also', 'RB'), ('proficient', 'VBP'), ('various', 'JJ'), ('machine', 'NN'), ('learning', 'VBG'), ('frameworks', 'NNS'), ('.', '.')]\n",
      "[('Currently', 'RB'), (',', ','), ('I', 'PRP'), ('pursuing', 'VBG'), ('opportunities', 'NNS'), ('Data', 'NNP'), ('Science', 'NNP'), ('MLOps', 'NNP'), (',', ','), ('I', 'PRP'), ('aim', 'VBP'), ('contribute', 'JJ'), ('impactful', 'JJ'), ('data-driven', 'JJ'), ('projects', 'NNS'), ('.', '.')]\n",
      "[('Alongside', 'NNP'), (',', ','), ('I', 'PRP'), ('manage', 'VBP'), ('active', 'JJ'), ('LinkedIn', 'NNP'), ('network', 'NN'), ('YouTube', 'NNP'), ('channel', 'NN'), ('I', 'PRP'), ('share', 'NN'), ('content', 'NN'), ('related', 'VBN'), ('Python', 'NNP'), (',', ','), ('Machine', 'NNP'), ('Learning', 'NNP'), (',', ','), ('Data', 'NNP'), ('Science', 'NNP'), (',', ','), ('garnered', 'VBD'), ('10K', 'CD'), ('followers', 'NNS'), ('.', '.')]\n",
      "[('I', 'PRP'), ('also', 'RB'), ('tutor', 'VBP'), ('IQ', 'NNP'), ('Tuition', 'NNP'), ('Centre', 'NNP'), (',', ','), ('supporting', 'VBG'), ('students', 'NNS'), ('knowledge', 'VBP'), ('experience', 'NN'), ('.', '.')]\n",
      "[('My', 'PRP$'), ('goal', 'NN'), ('become', 'VBN'), ('Data', 'NNP'), ('Scientist', 'NNP'), (',', ','), ('I', 'PRP'), ('aspire', 'VBP'), ('transition', 'NN'), ('towards', 'NNS'), ('MLOps', 'NNP'), ('build', 'VB'), ('robust', 'JJ'), (',', ','), ('scalable', 'JJ'), ('data', 'NNS'), ('solutions', 'NNS'), ('.', '.')]\n",
      "[('Thank', 'NN'), ('!', '.')]\n"
     ]
    }
   ],
   "source": [
    "for i in range(len(sentences)):\n",
    "    words=nltk.word_tokenize(sentences[i])\n",
    "    words = [word for word in words if word not in set(stopwords.words('english'))]\n",
    "    pos_tag = nltk.pos_tag(words)\n",
    "    print(pos_tag)"
   ]
  },
  {
   "cell_type": "code",
   "execution_count": 22,
   "id": "af58e127",
   "metadata": {},
   "outputs": [
    {
     "name": "stdout",
     "output_type": "stream",
     "text": [
      "[[('Machine', 'NN'), ('learning', 'NN'), ('algorithms', 'NN'), ('are', 'VBP'), ('a', 'DT'), ('set', 'NN'), ('of', 'IN'), ('instructions', 'NNS'), ('that', 'WDT'), ('help', 'VBP'), ('computers', 'NNS'), ('analyze', 'VB'), ('data', 'NNS'), ('to', 'TO'), ('learn', 'VB'), ('and', 'CC'), ('make', 'VB'), ('predictions', 'NNS')]]\n"
     ]
    }
   ],
   "source": [
    "sentences = [[\"Machine\", \"learning\", \"algorithms\", \"are\", \"a\", \"set\", \"of\", \"instructions\", \"that\", \"help\", \"computers\", \"analyze\", \"data\", \"to\", \"learn\", \"and\", \"make\", \"predictions\"]]\n",
    "tagged_sentences = nltk.pos_tag_sents(sentences)\n",
    "print(tagged_sentences)"
   ]
  },
  {
   "cell_type": "code",
   "execution_count": null,
   "id": "7611b76e",
   "metadata": {},
   "outputs": [],
   "source": []
  }
 ],
 "metadata": {
  "kernelspec": {
   "display_name": "Python 3 (ipykernel)",
   "language": "python",
   "name": "python3"
  },
  "language_info": {
   "codemirror_mode": {
    "name": "ipython",
    "version": 3
   },
   "file_extension": ".py",
   "mimetype": "text/x-python",
   "name": "python",
   "nbconvert_exporter": "python",
   "pygments_lexer": "ipython3",
   "version": "3.10.9"
  }
 },
 "nbformat": 4,
 "nbformat_minor": 5
}
