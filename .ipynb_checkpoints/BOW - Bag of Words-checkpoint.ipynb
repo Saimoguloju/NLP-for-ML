{
 "cells": [
  {
   "cell_type": "code",
   "execution_count": 17,
   "id": "83a7bb32",
   "metadata": {},
   "outputs": [],
   "source": [
    "import numpy as np\n",
    "import pandas as pd"
   ]
  },
  {
   "cell_type": "code",
   "execution_count": 18,
   "id": "93569bac",
   "metadata": {},
   "outputs": [],
   "source": [
    "df = pd.read_csv(\"email.csv\")"
   ]
  },
  {
   "cell_type": "code",
   "execution_count": 19,
   "id": "9e28a693",
   "metadata": {},
   "outputs": [
    {
     "data": {
      "text/html": [
       "<div>\n",
       "<style scoped>\n",
       "    .dataframe tbody tr th:only-of-type {\n",
       "        vertical-align: middle;\n",
       "    }\n",
       "\n",
       "    .dataframe tbody tr th {\n",
       "        vertical-align: top;\n",
       "    }\n",
       "\n",
       "    .dataframe thead th {\n",
       "        text-align: right;\n",
       "    }\n",
       "</style>\n",
       "<table border=\"1\" class=\"dataframe\">\n",
       "  <thead>\n",
       "    <tr style=\"text-align: right;\">\n",
       "      <th></th>\n",
       "      <th>Category</th>\n",
       "      <th>Message</th>\n",
       "    </tr>\n",
       "  </thead>\n",
       "  <tbody>\n",
       "    <tr>\n",
       "      <th>0</th>\n",
       "      <td>ham</td>\n",
       "      <td>Go until jurong point, crazy.. Available only ...</td>\n",
       "    </tr>\n",
       "    <tr>\n",
       "      <th>1</th>\n",
       "      <td>ham</td>\n",
       "      <td>Ok lar... Joking wif u oni...</td>\n",
       "    </tr>\n",
       "    <tr>\n",
       "      <th>2</th>\n",
       "      <td>spam</td>\n",
       "      <td>Free entry in 2 a wkly comp to win FA Cup fina...</td>\n",
       "    </tr>\n",
       "    <tr>\n",
       "      <th>3</th>\n",
       "      <td>ham</td>\n",
       "      <td>U dun say so early hor... U c already then say...</td>\n",
       "    </tr>\n",
       "    <tr>\n",
       "      <th>4</th>\n",
       "      <td>ham</td>\n",
       "      <td>Nah I don't think he goes to usf, he lives aro...</td>\n",
       "    </tr>\n",
       "  </tbody>\n",
       "</table>\n",
       "</div>"
      ],
      "text/plain": [
       "  Category                                            Message\n",
       "0      ham  Go until jurong point, crazy.. Available only ...\n",
       "1      ham                      Ok lar... Joking wif u oni...\n",
       "2     spam  Free entry in 2 a wkly comp to win FA Cup fina...\n",
       "3      ham  U dun say so early hor... U c already then say...\n",
       "4      ham  Nah I don't think he goes to usf, he lives aro..."
      ]
     },
     "execution_count": 19,
     "metadata": {},
     "output_type": "execute_result"
    }
   ],
   "source": [
    "df.head()"
   ]
  },
  {
   "cell_type": "code",
   "execution_count": 20,
   "id": "54ae52f4",
   "metadata": {
    "scrolled": true
   },
   "outputs": [
    {
     "data": {
      "text/plain": [
       "ham     4825\n",
       "spam     747\n",
       "Name: Category, dtype: int64"
      ]
     },
     "execution_count": 20,
     "metadata": {},
     "output_type": "execute_result"
    }
   ],
   "source": [
    "df['Category'].value_counts()"
   ]
  },
  {
   "cell_type": "code",
   "execution_count": 21,
   "id": "e0c2af6f",
   "metadata": {},
   "outputs": [
    {
     "data": {
      "text/plain": [
       "(5572, 2)"
      ]
     },
     "execution_count": 21,
     "metadata": {},
     "output_type": "execute_result"
    }
   ],
   "source": [
    "df.shape"
   ]
  },
  {
   "cell_type": "code",
   "execution_count": 22,
   "id": "97af7f6c",
   "metadata": {},
   "outputs": [
    {
     "name": "stdout",
     "output_type": "stream",
     "text": [
      "<class 'pandas.core.frame.DataFrame'>\n",
      "RangeIndex: 5572 entries, 0 to 5571\n",
      "Data columns (total 2 columns):\n",
      " #   Column    Non-Null Count  Dtype \n",
      "---  ------    --------------  ----- \n",
      " 0   Category  5572 non-null   object\n",
      " 1   Message   5572 non-null   object\n",
      "dtypes: object(2)\n",
      "memory usage: 87.2+ KB\n"
     ]
    }
   ],
   "source": [
    "df.info()"
   ]
  },
  {
   "cell_type": "code",
   "execution_count": 23,
   "id": "c2d5b768",
   "metadata": {},
   "outputs": [
    {
     "data": {
      "text/plain": [
       "Category    0\n",
       "Message     0\n",
       "dtype: int64"
      ]
     },
     "execution_count": 23,
     "metadata": {},
     "output_type": "execute_result"
    }
   ],
   "source": [
    "df.isna().sum()"
   ]
  },
  {
   "cell_type": "code",
   "execution_count": 24,
   "id": "b5e7989f",
   "metadata": {},
   "outputs": [],
   "source": [
    "df['spam'] = df['Category'].apply(lambda x: 1 if x == 'spam' else 0)"
   ]
  },
  {
   "cell_type": "code",
   "execution_count": 25,
   "id": "13b577dc",
   "metadata": {},
   "outputs": [
    {
     "data": {
      "text/html": [
       "<div>\n",
       "<style scoped>\n",
       "    .dataframe tbody tr th:only-of-type {\n",
       "        vertical-align: middle;\n",
       "    }\n",
       "\n",
       "    .dataframe tbody tr th {\n",
       "        vertical-align: top;\n",
       "    }\n",
       "\n",
       "    .dataframe thead th {\n",
       "        text-align: right;\n",
       "    }\n",
       "</style>\n",
       "<table border=\"1\" class=\"dataframe\">\n",
       "  <thead>\n",
       "    <tr style=\"text-align: right;\">\n",
       "      <th></th>\n",
       "      <th>Category</th>\n",
       "      <th>Message</th>\n",
       "      <th>spam</th>\n",
       "    </tr>\n",
       "  </thead>\n",
       "  <tbody>\n",
       "    <tr>\n",
       "      <th>0</th>\n",
       "      <td>ham</td>\n",
       "      <td>Go until jurong point, crazy.. Available only ...</td>\n",
       "      <td>0</td>\n",
       "    </tr>\n",
       "    <tr>\n",
       "      <th>1</th>\n",
       "      <td>ham</td>\n",
       "      <td>Ok lar... Joking wif u oni...</td>\n",
       "      <td>0</td>\n",
       "    </tr>\n",
       "    <tr>\n",
       "      <th>2</th>\n",
       "      <td>spam</td>\n",
       "      <td>Free entry in 2 a wkly comp to win FA Cup fina...</td>\n",
       "      <td>1</td>\n",
       "    </tr>\n",
       "    <tr>\n",
       "      <th>3</th>\n",
       "      <td>ham</td>\n",
       "      <td>U dun say so early hor... U c already then say...</td>\n",
       "      <td>0</td>\n",
       "    </tr>\n",
       "    <tr>\n",
       "      <th>4</th>\n",
       "      <td>ham</td>\n",
       "      <td>Nah I don't think he goes to usf, he lives aro...</td>\n",
       "      <td>0</td>\n",
       "    </tr>\n",
       "  </tbody>\n",
       "</table>\n",
       "</div>"
      ],
      "text/plain": [
       "  Category                                            Message  spam\n",
       "0      ham  Go until jurong point, crazy.. Available only ...     0\n",
       "1      ham                      Ok lar... Joking wif u oni...     0\n",
       "2     spam  Free entry in 2 a wkly comp to win FA Cup fina...     1\n",
       "3      ham  U dun say so early hor... U c already then say...     0\n",
       "4      ham  Nah I don't think he goes to usf, he lives aro...     0"
      ]
     },
     "execution_count": 25,
     "metadata": {},
     "output_type": "execute_result"
    }
   ],
   "source": [
    "df.head()"
   ]
  },
  {
   "cell_type": "code",
   "execution_count": 28,
   "id": "d61e626a",
   "metadata": {},
   "outputs": [],
   "source": [
    "from sklearn.model_selection import train_test_split\n",
    "\n",
    "X_train, X_test, y_train, y_test = train_test_split(df.Message, df.spam, test_size = 0.2)"
   ]
  },
  {
   "cell_type": "code",
   "execution_count": 29,
   "id": "4b0d683e",
   "metadata": {},
   "outputs": [
    {
     "data": {
      "text/plain": [
       "(4457,)"
      ]
     },
     "execution_count": 29,
     "metadata": {},
     "output_type": "execute_result"
    }
   ],
   "source": [
    "X_train.shape"
   ]
  },
  {
   "cell_type": "code",
   "execution_count": 30,
   "id": "a52b26e1",
   "metadata": {},
   "outputs": [
    {
     "data": {
      "text/plain": [
       "(1115,)"
      ]
     },
     "execution_count": 30,
     "metadata": {},
     "output_type": "execute_result"
    }
   ],
   "source": [
    "X_test.shape"
   ]
  },
  {
   "cell_type": "code",
   "execution_count": 31,
   "id": "811c17e4",
   "metadata": {},
   "outputs": [
    {
     "data": {
      "text/plain": [
       "pandas.core.series.Series"
      ]
     },
     "execution_count": 31,
     "metadata": {},
     "output_type": "execute_result"
    }
   ],
   "source": [
    "type(X_train)"
   ]
  },
  {
   "cell_type": "code",
   "execution_count": 34,
   "id": "eec191dd",
   "metadata": {},
   "outputs": [
    {
     "data": {
      "text/plain": [
       "3036    Raji..pls do me a favour. Pls convey my Birthd...\n",
       "1795                     How much i gave to you. Morning.\n",
       "4221    U free on sat rite? U wan 2 watch infernal aff...\n",
       "1370                     Did you try making another butt.\n",
       "Name: Message, dtype: object"
      ]
     },
     "execution_count": 34,
     "metadata": {},
     "output_type": "execute_result"
    }
   ],
   "source": [
    "X_train[:4]"
   ]
  },
  {
   "cell_type": "code",
   "execution_count": 35,
   "id": "d613bf65",
   "metadata": {},
   "outputs": [
    {
     "data": {
      "text/plain": [
       "'Raji..pls do me a favour. Pls convey my Birthday wishes to Nimya. Pls. Today is her birthday.'"
      ]
     },
     "execution_count": 35,
     "metadata": {},
     "output_type": "execute_result"
    }
   ],
   "source": [
    "X_train[:4][3036]"
   ]
  },
  {
   "cell_type": "code",
   "execution_count": 36,
   "id": "b998cd93",
   "metadata": {},
   "outputs": [
    {
     "data": {
      "text/plain": [
       "(4457,)"
      ]
     },
     "execution_count": 36,
     "metadata": {},
     "output_type": "execute_result"
    }
   ],
   "source": [
    "y_train.shape"
   ]
  },
  {
   "cell_type": "code",
   "execution_count": 37,
   "id": "76018a4b",
   "metadata": {},
   "outputs": [
    {
     "data": {
      "text/plain": [
       "pandas.core.series.Series"
      ]
     },
     "execution_count": 37,
     "metadata": {},
     "output_type": "execute_result"
    }
   ],
   "source": [
    "type(y_train)"
   ]
  },
  {
   "cell_type": "code",
   "execution_count": 38,
   "id": "791218dc",
   "metadata": {},
   "outputs": [
    {
     "data": {
      "text/plain": [
       "3036    0\n",
       "1795    0\n",
       "4221    0\n",
       "1370    0\n",
       "Name: spam, dtype: int64"
      ]
     },
     "execution_count": 38,
     "metadata": {},
     "output_type": "execute_result"
    }
   ],
   "source": [
    "y_train[:4]"
   ]
  },
  {
   "cell_type": "code",
   "execution_count": 39,
   "id": "aa4db593",
   "metadata": {},
   "outputs": [
    {
     "data": {
      "text/plain": [
       "numpy.ndarray"
      ]
     },
     "execution_count": 39,
     "metadata": {},
     "output_type": "execute_result"
    }
   ],
   "source": [
    "type(X_train.values)"
   ]
  },
  {
   "cell_type": "code",
   "execution_count": 40,
   "id": "6c7d6f01",
   "metadata": {},
   "outputs": [],
   "source": [
    "from sklearn.feature_extraction.text import CountVectorizer"
   ]
  },
  {
   "cell_type": "code",
   "execution_count": 41,
   "id": "e7e713b0",
   "metadata": {},
   "outputs": [],
   "source": [
    "v = CountVectorizer()"
   ]
  },
  {
   "cell_type": "code",
   "execution_count": 42,
   "id": "1377586a",
   "metadata": {},
   "outputs": [
    {
     "data": {
      "text/plain": [
       "<4457x7648 sparse matrix of type '<class 'numpy.int64'>'\n",
       "\twith 59132 stored elements in Compressed Sparse Row format>"
      ]
     },
     "execution_count": 42,
     "metadata": {},
     "output_type": "execute_result"
    }
   ],
   "source": [
    "x_train = v.fit_transform(X_train.values)\n",
    "x_train"
   ]
  },
  {
   "cell_type": "code",
   "execution_count": 44,
   "id": "3dac7e9b",
   "metadata": {},
   "outputs": [
    {
     "data": {
      "text/plain": [
       "array([[0, 0, 0, ..., 0, 0, 0],\n",
       "       [0, 0, 0, ..., 0, 0, 0],\n",
       "       [0, 0, 0, ..., 0, 0, 0],\n",
       "       ...,\n",
       "       [0, 0, 0, ..., 0, 0, 0],\n",
       "       [0, 0, 0, ..., 0, 0, 0],\n",
       "       [0, 0, 0, ..., 0, 0, 0]], dtype=int64)"
      ]
     },
     "execution_count": 44,
     "metadata": {},
     "output_type": "execute_result"
    }
   ],
   "source": [
    "x_train.toarray()"
   ]
  },
  {
   "cell_type": "code",
   "execution_count": 45,
   "id": "32e1cf62",
   "metadata": {},
   "outputs": [
    {
     "data": {
      "text/plain": [
       "array([[0, 0, 0, ..., 0, 0, 0],\n",
       "       [0, 0, 0, ..., 0, 0, 0]], dtype=int64)"
      ]
     },
     "execution_count": 45,
     "metadata": {},
     "output_type": "execute_result"
    }
   ],
   "source": [
    "x_train.toarray()[:2]"
   ]
  },
  {
   "cell_type": "code",
   "execution_count": 46,
   "id": "a63b36fa",
   "metadata": {},
   "outputs": [
    {
     "data": {
      "text/plain": [
       "(4457, 7648)"
      ]
     },
     "execution_count": 46,
     "metadata": {},
     "output_type": "execute_result"
    }
   ],
   "source": [
    "x_train.shape"
   ]
  },
  {
   "cell_type": "code",
   "execution_count": 47,
   "id": "88b0e1f5",
   "metadata": {},
   "outputs": [
    {
     "data": {
      "text/plain": [
       "array(['00', '000', '000pes', ..., 'èn', 'ú1', '〨ud'], dtype=object)"
      ]
     },
     "execution_count": 47,
     "metadata": {},
     "output_type": "execute_result"
    }
   ],
   "source": [
    "v.get_feature_names_out()"
   ]
  },
  {
   "cell_type": "code",
   "execution_count": 49,
   "id": "867c80e7",
   "metadata": {},
   "outputs": [
    {
     "data": {
      "text/plain": [
       "array(['0870737910216yrs', '08707500020', '08707509020', '0870753331018',\n",
       "       '08707808226', '08708034412', '08708800282', '08709222922',\n",
       "       '08709501522', '0871', '087104711148', '08712101358',\n",
       "       '08712300220', '087123002209am', '08712317606', '08712400200',\n",
       "       '08712400602450p', '08712402050', '08712402578', '08712402902',\n",
       "       '08712402972', '08712404000', '08712405020', '08712405022',\n",
       "       '08712460324', '0871277810710p', '0871277810810', '0871277810910p',\n",
       "       '08714342399', '087147123779am', '08714712388', '08714712394',\n",
       "       '08714712412', '08715203656', '08715203677', '08715203694',\n",
       "       '08715205273', '08715705022', '08717111821', '08717168528',\n",
       "       '0871750', '08717507382', '08717509990', '08717890890',\n",
       "       '08717895698', '08717898035', '08718711108', '08718720201',\n",
       "       '08718725756', '08718726270'], dtype=object)"
      ]
     },
     "execution_count": 49,
     "metadata": {},
     "output_type": "execute_result"
    }
   ],
   "source": [
    "v.get_feature_names_out()[90:140]"
   ]
  },
  {
   "cell_type": "code",
   "execution_count": 50,
   "id": "2f06ef6e",
   "metadata": {},
   "outputs": [
    {
     "data": {
      "text/plain": [
       "(7648,)"
      ]
     },
     "execution_count": 50,
     "metadata": {},
     "output_type": "execute_result"
    }
   ],
   "source": [
    "v.get_feature_names_out().shape"
   ]
  },
  {
   "cell_type": "code",
   "execution_count": 51,
   "id": "3ef908e3",
   "metadata": {},
   "outputs": [
    {
     "data": {
      "text/plain": [
       "['__annotations__',\n",
       " '__class__',\n",
       " '__delattr__',\n",
       " '__dict__',\n",
       " '__dir__',\n",
       " '__doc__',\n",
       " '__eq__',\n",
       " '__format__',\n",
       " '__ge__',\n",
       " '__getattribute__',\n",
       " '__getstate__',\n",
       " '__gt__',\n",
       " '__hash__',\n",
       " '__init__',\n",
       " '__init_subclass__',\n",
       " '__le__',\n",
       " '__lt__',\n",
       " '__module__',\n",
       " '__ne__',\n",
       " '__new__',\n",
       " '__reduce__',\n",
       " '__reduce_ex__',\n",
       " '__repr__',\n",
       " '__setattr__',\n",
       " '__setstate__',\n",
       " '__sizeof__',\n",
       " '__str__',\n",
       " '__subclasshook__',\n",
       " '__weakref__',\n",
       " '_char_ngrams',\n",
       " '_char_wb_ngrams',\n",
       " '_check_feature_names',\n",
       " '_check_n_features',\n",
       " '_check_stop_words_consistency',\n",
       " '_check_vocabulary',\n",
       " '_count_vocab',\n",
       " '_get_param_names',\n",
       " '_get_tags',\n",
       " '_limit_features',\n",
       " '_more_tags',\n",
       " '_parameter_constraints',\n",
       " '_repr_html_',\n",
       " '_repr_html_inner',\n",
       " '_repr_mimebundle_',\n",
       " '_sort_features',\n",
       " '_stop_words_id',\n",
       " '_validate_data',\n",
       " '_validate_ngram_range',\n",
       " '_validate_params',\n",
       " '_validate_vocabulary',\n",
       " '_warn_for_unused_params',\n",
       " '_white_spaces',\n",
       " '_word_ngrams',\n",
       " 'analyzer',\n",
       " 'binary',\n",
       " 'build_analyzer',\n",
       " 'build_preprocessor',\n",
       " 'build_tokenizer',\n",
       " 'decode',\n",
       " 'decode_error',\n",
       " 'dtype',\n",
       " 'encoding',\n",
       " 'fit',\n",
       " 'fit_transform',\n",
       " 'fixed_vocabulary_',\n",
       " 'get_feature_names_out',\n",
       " 'get_params',\n",
       " 'get_stop_words',\n",
       " 'input',\n",
       " 'inverse_transform',\n",
       " 'lowercase',\n",
       " 'max_df',\n",
       " 'max_features',\n",
       " 'min_df',\n",
       " 'ngram_range',\n",
       " 'preprocessor',\n",
       " 'set_params',\n",
       " 'stop_words',\n",
       " 'stop_words_',\n",
       " 'strip_accents',\n",
       " 'token_pattern',\n",
       " 'tokenizer',\n",
       " 'transform',\n",
       " 'vocabulary',\n",
       " 'vocabulary_']"
      ]
     },
     "execution_count": 51,
     "metadata": {},
     "output_type": "execute_result"
    }
   ],
   "source": [
    "dir(v)"
   ]
  },
  {
   "cell_type": "code",
   "execution_count": 54,
   "id": "3cddb473",
   "metadata": {},
   "outputs": [
    {
     "data": {
      "text/plain": [
       "{'raji': 5498,\n",
       " 'pls': 5202,\n",
       " 'do': 2349,\n",
       " 'me': 4348,\n",
       " 'favour': 2763,\n",
       " 'convey': 1982,\n",
       " 'my': 4611,\n",
       " 'birthday': 1364,\n",
       " 'wishes': 7449,\n",
       " 'to': 6864,\n",
       " 'nimya': 4729,\n",
       " 'today': 6870,\n",
       " 'is': 3704,\n",
       " 'her': 3377,\n",
       " 'how': 3486,\n",
       " 'much': 4580,\n",
       " 'gave': 3056,\n",
       " 'you': 7606,\n",
       " 'morning': 4534,\n",
       " 'free': 2954,\n",
       " 'on': 4879,\n",
       " 'sat': 5845,\n",
       " 'rite': 5739,\n",
       " 'wan': 7285,\n",
       " 'watch': 7310,\n",
       " 'infernal': 3632,\n",
       " 'affairs': 851,\n",
       " 'wif': 7419,\n",
       " 'darren': 2145,\n",
       " 'mayb': 4341,\n",
       " 'xy': 7567,\n",
       " 'did': 2277,\n",
       " 'try': 6983,\n",
       " 'making': 4272,\n",
       " 'another': 985,\n",
       " 'butt': 1573,\n",
       " 'only': 4889,\n",
       " 'send': 5943,\n",
       " 'the': 6747,\n",
       " 'contents': 1971,\n",
       " 'page': 4988,\n",
       " 'arun': 1092,\n",
       " 'can': 1628,\n",
       " 'transfr': 6946,\n",
       " 'amt': 959,\n",
       " 'wherre': 7397,\n",
       " 'boytoy': 1473,\n",
       " 'sounds': 6281,\n",
       " 'good': 3155,\n",
       " 'keep': 3860,\n",
       " 'posted': 5273,\n",
       " 'its': 3720,\n",
       " 'just': 3827,\n",
       " 'effect': 2511,\n",
       " 'of': 4839,\n",
       " 'irritation': 3702,\n",
       " 'ignore': 3572,\n",
       " 'it': 3715,\n",
       " 'if': 3568,\n",
       " 'die': 2281,\n",
       " 'want': 7289,\n",
       " 'have': 3321,\n",
       " 'all': 915,\n",
       " 'stuffs': 6479,\n",
       " 'winner': 7441,\n",
       " 'as': 1093,\n",
       " 'valued': 7162,\n",
       " 'network': 4696,\n",
       " 'customer': 2108,\n",
       " 'been': 1291,\n",
       " 'selected': 5930,\n",
       " 'receivea': 5563,\n",
       " '900': 733,\n",
       " 'prize': 5364,\n",
       " 'reward': 5710,\n",
       " 'claim': 1811,\n",
       " 'call': 1603,\n",
       " '09061701461': 193,\n",
       " 'code': 1864,\n",
       " 'kl341': 3906,\n",
       " 'valid': 7158,\n",
       " '12': 280,\n",
       " 'hours': 3481,\n",
       " 'we': 7327,\n",
       " 'make': 4268,\n",
       " 'baby': 1195,\n",
       " 'in': 3603,\n",
       " 'yo': 7601,\n",
       " 'tho': 6791,\n",
       " 'pure': 5441,\n",
       " 'hearted': 3348,\n",
       " 'person': 5101,\n",
       " 'wonderful': 7485,\n",
       " 'smile': 6190,\n",
       " 'that': 6743,\n",
       " 'makes': 4269,\n",
       " 'even': 2632,\n",
       " 'his': 3408,\n",
       " 'enemies': 2561,\n",
       " 'feel': 2773,\n",
       " 'guilty': 3245,\n",
       " 'for': 2908,\n",
       " 'being': 1309,\n",
       " 'an': 962,\n",
       " 'enemy': 2562,\n",
       " 'so': 6220,\n",
       " 'catch': 1678,\n",
       " 'world': 7503,\n",
       " 'with': 7455,\n",
       " 'your': 7612,\n",
       " 'goodmorning': 3160,\n",
       " 'amp': 954,\n",
       " 'smiley': 6193,\n",
       " 'sunday': 6534,\n",
       " 'come': 1890,\n",
       " 'guoyang': 3247,\n",
       " 'go': 3129,\n",
       " 'tell': 6689,\n",
       " 'then': 6757,\n",
       " 'told': 6879,\n",
       " 'will': 7428,\n",
       " 'once': 4883,\n",
       " 'get': 3082,\n",
       " 'home': 3443,\n",
       " 'bloo': 1396,\n",
       " 'll': 4114,\n",
       " 'miss': 4454,\n",
       " 'first': 2840,\n",
       " 'bowl': 1453,\n",
       " 'al': 900,\n",
       " 'he': 3332,\n",
       " 'does': 2359,\n",
       " 'moan': 4487,\n",
       " 'at': 1125,\n",
       " 'thin': 6774,\n",
       " 'goes': 3137,\n",
       " 'wrong': 7533,\n",
       " 'fault': 2759,\n",
       " 'de': 2163,\n",
       " 'arguments': 1067,\n",
       " 'fed': 2770,\n",
       " 'up': 7107,\n",
       " 'him': 3401,\n",
       " 'himso': 3403,\n",
       " 'bother': 1446,\n",
       " 'hav': 3318,\n",
       " '2go': 392,\n",
       " 'thanx': 6741,\n",
       " 'xx': 7558,\n",
       " 'company': 1906,\n",
       " 'very': 7186,\n",
       " 'environment': 2593,\n",
       " 'terrific': 6711,\n",
       " 'and': 967,\n",
       " 'food': 2900,\n",
       " 'really': 5546,\n",
       " 'nice': 4714,\n",
       " 'hey': 3386,\n",
       " 'mr': 4558,\n",
       " 'are': 1056,\n",
       " 'going': 3142,\n",
       " 'sea': 5901,\n",
       " 'view': 7201,\n",
       " 'having': 3327,\n",
       " 'couple': 2020,\n",
       " 'gays': 3058,\n",
       " 'mean': 4351,\n",
       " 'games': 3038,\n",
       " 'give': 3111,\n",
       " 'bell': 1311,\n",
       " 'when': 7390,\n",
       " 'ya': 7568,\n",
       " 'finish': 2828,\n",
       " 'science': 5876,\n",
       " 'tells': 6691,\n",
       " 'chocolate': 1792,\n",
       " 'melt': 4379,\n",
       " 'under': 7065,\n",
       " 'sunlight': 6536,\n",
       " 'please': 5194,\n",
       " 'don': 2381,\n",
       " 'walk': 7274,\n",
       " 'bcoz': 1269,\n",
       " 'loss': 4159,\n",
       " 'sweet': 6587,\n",
       " 'friend': 2974,\n",
       " 'havent': 3324,\n",
       " 'mus': 4597,\n",
       " 'ask': 1102,\n",
       " '1st': 337,\n",
       " 'wat': 7309,\n",
       " 'meet': 4366,\n",
       " 'lunch': 4206,\n",
       " 'den': 2219,\n",
       " 'already': 927,\n",
       " 'lor': 4153,\n",
       " 'or': 4917,\n",
       " 'da': 2124,\n",
       " 'ge': 3065,\n",
       " 'confirm': 1942,\n",
       " 'asap': 1095,\n",
       " 'university': 7086,\n",
       " 'southern': 6287,\n",
       " 'california': 1602,\n",
       " 'uncles': 7057,\n",
       " 'atlanta': 1129,\n",
       " 'wish': 7448,\n",
       " 'guys': 3251,\n",
       " 'great': 3203,\n",
       " 'semester': 5939,\n",
       " 'shall': 5995,\n",
       " 'pickle': 5145,\n",
       " 'school': 5874,\n",
       " 'starting': 6390,\n",
       " 'where': 7394,\n",
       " 'stay': 6401,\n",
       " 'what': 7384,\n",
       " 'weather': 7335,\n",
       " 'like': 4063,\n",
       " 'social': 6223,\n",
       " 'support': 6552,\n",
       " 'system': 6608,\n",
       " 'friends': 2975,\n",
       " 'these': 6764,\n",
       " 'things': 6776,\n",
       " 'important': 3594,\n",
       " 'something': 6244,\n",
       " 'thats': 6746,\n",
       " 'okay': 4864,\n",
       " 'holiday': 3438,\n",
       " 'no': 4739,\n",
       " 'work': 7497,\n",
       " 'guy': 3250,\n",
       " 'kadeem': 3838,\n",
       " 'hasn': 3311,\n",
       " 'selling': 5936,\n",
       " 'since': 6109,\n",
       " 'break': 1490,\n",
       " 'know': 3913,\n",
       " 'one': 4884,\n",
       " 'other': 4942,\n",
       " 'but': 1572,\n",
       " 'paranoid': 5019,\n",
       " 'fuck': 2998,\n",
       " 'doesn': 2361,\n",
       " 'without': 7459,\n",
       " 'there': 6762,\n",
       " 'be': 1274,\n",
       " 'til': 6827,\n",
       " 'late': 3979,\n",
       " 'tonight': 6895,\n",
       " 'sorry': 6270,\n",
       " 'later': 3982,\n",
       " 'pa': 4983,\n",
       " 'not': 4775,\n",
       " 'hi': 3390,\n",
       " 'im': 3581,\n",
       " 'most': 4539,\n",
       " 'relaxing': 5612,\n",
       " 'time': 6830,\n",
       " 'ever': 2638,\n",
       " '7am': 638,\n",
       " 'every': 2639,\n",
       " 'day': 2157,\n",
       " 'was': 7302,\n",
       " 'party': 5036,\n",
       " 'night': 4722,\n",
       " 'tomorrow': 6887,\n",
       " '5ish': 565,\n",
       " 'people': 5083,\n",
       " 'see': 5919,\n",
       " 'msgs': 4568,\n",
       " 'they': 6770,\n",
       " 'think': 6777,\n",
       " 'iam': 3539,\n",
       " 'addicted': 821,\n",
       " 'msging': 4565,\n",
       " 'bslvyl': 1533,\n",
       " 'girl': 3105,\n",
       " 'waiting': 7269,\n",
       " 'reception': 5568,\n",
       " 'ah': 877,\n",
       " 'sir': 6121,\n",
       " 'letter': 4039,\n",
       " 'write': 7526,\n",
       " 'ccna': 1689,\n",
       " 'exam': 2664,\n",
       " 'this': 6785,\n",
       " 'week': 7350,\n",
       " 'dhoni': 2265,\n",
       " 'rocks': 5749,\n",
       " 'ola': 4869,\n",
       " 'would': 7516,\n",
       " 'back': 1200,\n",
       " 'maybe': 4342,\n",
       " 've': 7174,\n",
       " 'direct': 2310,\n",
       " 'link': 4082,\n",
       " 'us': 7132,\n",
       " 'getting': 3090,\n",
       " 'cars': 1667,\n",
       " 'bids': 1345,\n",
       " 'online': 4888,\n",
       " 'arrange': 1080,\n",
       " 'shipping': 6028,\n",
       " 'cut': 2112,\n",
       " 'partnership': 5034,\n",
       " 'invest': 3680,\n",
       " 'money': 4516,\n",
       " 'takes': 6629,\n",
       " 'care': 1652,\n",
       " 'rest': 5684,\n",
       " 'wud': 7542,\n",
       " 'self': 5932,\n",
       " 'reliant': 5614,\n",
       " 'soon': 6260,\n",
       " 'dnt': 2348,\n",
       " 'worry': 7507,\n",
       " 'congratulations': 1950,\n",
       " 'ur': 7120,\n",
       " 'awarded': 1175,\n",
       " '500': 541,\n",
       " 'cd': 1690,\n",
       " 'vouchers': 7243,\n",
       " '125gift': 288,\n",
       " 'guaranteed': 3231,\n",
       " 'entry': 2588,\n",
       " '100': 258,\n",
       " 'wkly': 7468,\n",
       " 'draw': 2415,\n",
       " 'txt': 7016,\n",
       " 'music': 4600,\n",
       " '87066': 701,\n",
       " 'tncs': 6863,\n",
       " 'www': 7546,\n",
       " 'ldew': 4000,\n",
       " 'com1win150ppmx3age16': 1886,\n",
       " 'anything': 1005,\n",
       " 'lar': 3972,\n",
       " 'dinner': 2305,\n",
       " 'lol': 4135,\n",
       " 'always': 936,\n",
       " 'convincing': 1986,\n",
       " 'darling': 2143,\n",
       " 'sister': 6124,\n",
       " 'doing': 2371,\n",
       " 'resuming': 5695,\n",
       " 'minimum': 4435,\n",
       " 'wait': 7266,\n",
       " 'period': 5095,\n",
       " 'before': 1297,\n",
       " 'reapply': 5548,\n",
       " 'take': 6626,\n",
       " 'oh': 4858,\n",
       " 'wasted': 7307,\n",
       " 'muz': 4608,\n",
       " 'chiong': 1788,\n",
       " 'sun': 6533,\n",
       " 'liao': 4044,\n",
       " 'fighting': 2803,\n",
       " 'easy': 2487,\n",
       " 'either': 2526,\n",
       " 'win': 7431,\n",
       " 'lose': 4155,\n",
       " 'bt': 1535,\n",
       " 'fightng': 2804,\n",
       " 'some1': 6235,\n",
       " 'who': 7405,\n",
       " 'close': 1839,\n",
       " 'dificult': 2292,\n",
       " 'still': 6424,\n",
       " 'use': 7135,\n",
       " 'msn': 4569,\n",
       " 'lt': 4195,\n",
       " 'decimal': 2182,\n",
       " 'gt': 3227,\n",
       " 'common': 1900,\n",
       " 'car': 1647,\n",
       " 'here': 3378,\n",
       " 'better': 1333,\n",
       " 'buy': 1576,\n",
       " 'from': 2989,\n",
       " 'china': 1784,\n",
       " 'asia': 1100,\n",
       " 'find': 2823,\n",
       " 'less': 4034,\n",
       " 'expensive': 2687,\n",
       " 'holla': 3439,\n",
       " 'happy': 3300,\n",
       " 'may': 4340,\n",
       " 'dreams': 2419,\n",
       " 'true': 6976,\n",
       " 'dogbreath': 2364,\n",
       " 'sounding': 6280,\n",
       " 'jan': 3743,\n",
       " 'explicit': 2696,\n",
       " 'sex': 5977,\n",
       " '30': 425,\n",
       " 'secs': 5914,\n",
       " 'ring': 5728,\n",
       " '02073162414': 11,\n",
       " 'now': 4789,\n",
       " 'costs': 2008,\n",
       " '20p': 355,\n",
       " 'min': 4426,\n",
       " 'course': 2023,\n",
       " 'maths': 4328,\n",
       " 'chapter': 1722,\n",
       " 'month': 4523,\n",
       " 'word': 7495,\n",
       " 'checkmate': 1750,\n",
       " 'chess': 1763,\n",
       " 'comes': 1892,\n",
       " 'persian': 5099,\n",
       " 'phrase': 5137,\n",
       " 'shah': 5990,\n",
       " 'maat': 4233,\n",
       " 'which': 7399,\n",
       " 'means': 4355,\n",
       " 'king': 3894,\n",
       " 'dead': 2164,\n",
       " 'forwarded': 2933,\n",
       " '21870000': 357,\n",
       " 'mailbox': 4262,\n",
       " 'messaging': 4400,\n",
       " 'sms': 6200,\n",
       " 'alert': 905,\n",
       " 'messages': 4399,\n",
       " '21': 356,\n",
       " 'matches': 4321,\n",
       " '09056242159': 170,\n",
       " 'retrieve': 5698,\n",
       " 'babe': 1192,\n",
       " 'had': 3261,\n",
       " 'cancel': 1632,\n",
       " 'visit': 7219,\n",
       " 'happened': 3292,\n",
       " 'our': 4948,\n",
       " 'date': 2150,\n",
       " 'sabarish': 5806,\n",
       " 'asked': 1104,\n",
       " 'fine': 2826,\n",
       " 'by': 1586,\n",
       " 'hello': 3363,\n",
       " 'moving': 4555,\n",
       " 'out': 4951,\n",
       " 'flat': 2855,\n",
       " 'cos': 2004,\n",
       " 'need': 4674,\n",
       " 'pick': 5142,\n",
       " 'lamp': 3956,\n",
       " 'etc': 2623,\n",
       " 'caroline': 1664,\n",
       " 'should': 6058,\n",
       " 'texting': 6727,\n",
       " 'right': 5722,\n",
       " 'gonna': 3153,\n",
       " 'pay': 5057,\n",
       " 'ticket': 6821,\n",
       " 'thing': 6775,\n",
       " 'also': 930,\n",
       " 'came': 1623,\n",
       " 'room': 5758,\n",
       " 'little': 4105,\n",
       " 'darlings': 2144,\n",
       " 'far': 2746,\n",
       " 'coffee': 1865,\n",
       " 'run': 5793,\n",
       " 'tomo': 6885,\n",
       " 'believe': 1310,\n",
       " 'about': 767,\n",
       " 'yoyyooo': 7622,\n",
       " 'change': 1715,\n",
       " 'permissions': 5097,\n",
       " 'drive': 2428,\n",
       " 'mac': 4234,\n",
       " 'usb': 7133,\n",
       " 'flash': 2854,\n",
       " 'new': 4705,\n",
       " 'year': 7582,\n",
       " 'man': 4278,\n",
       " 'sunshine': 6541,\n",
       " 'quiz': 5477,\n",
       " 'top': 6908,\n",
       " 'sony': 6258,\n",
       " 'dvd': 2469,\n",
       " 'player': 5187,\n",
       " 'country': 2017,\n",
       " 'algarve': 910,\n",
       " 'ansr': 987,\n",
       " '82277': 667,\n",
       " '50': 540,\n",
       " 'sp': 6290,\n",
       " 'tyrone': 7029,\n",
       " 'aww': 1179,\n",
       " 'said': 5817,\n",
       " 'missed': 4456,\n",
       " 'asking': 1106,\n",
       " 'love': 4173,\n",
       " 'carlos': 1662,\n",
       " 'few': 2790,\n",
       " 'working': 7501,\n",
       " 'weekend': 7352,\n",
       " 'vl': 7228,\n",
       " 'bcum': 1270,\n",
       " 'more': 4530,\n",
       " 'difficult': 2290,\n",
       " 'them': 6753,\n",
       " 'drug': 2439,\n",
       " 'dealer': 2166,\n",
       " 'impatient': 3593,\n",
       " 'msg': 4563,\n",
       " 'after': 859,\n",
       " 'yeah': 7581,\n",
       " 'hopefully': 3459,\n",
       " 'tyler': 7025,\n",
       " 'could': 2012,\n",
       " 'around': 1077,\n",
       " 'bit': 1366,\n",
       " 'made': 4247,\n",
       " 'friday': 2973,\n",
       " 'stuffed': 6477,\n",
       " 'myself': 4615,\n",
       " 'pig': 5154,\n",
       " 'yesterday': 7593,\n",
       " 'bleh': 1385,\n",
       " 'least': 4012,\n",
       " 'writhing': 7527,\n",
       " 'pain': 4992,\n",
       " 'kind': 3891,\n",
       " 'she': 6009,\n",
       " 'borderline': 1436,\n",
       " 'whatever': 7385,\n",
       " 'sad': 5811,\n",
       " 'puppy': 5438,\n",
       " 'noise': 4746,\n",
       " 'promise': 5391,\n",
       " 'text': 6721,\n",
       " 'let': 4037,\n",
       " 'ok': 4863,\n",
       " 'beautiful': 1280,\n",
       " 'truth': 6982,\n",
       " 'against': 866,\n",
       " 'gravity': 3199,\n",
       " 'read': 5534,\n",
       " 'carefully': 1657,\n",
       " 'heart': 3347,\n",
       " 'feels': 2778,\n",
       " 'light': 4059,\n",
       " 'someone': 6238,\n",
       " 'heavy': 3354,\n",
       " 'leaves': 4015,\n",
       " 'creepy': 2056,\n",
       " 'won': 7482,\n",
       " 'forgot': 2920,\n",
       " 'sry': 6366,\n",
       " 'knw': 3916,\n",
       " 'siva': 6134,\n",
       " 'tats': 6652,\n",
       " 'askd': 1103,\n",
       " 'video': 7195,\n",
       " 'phone': 5127,\n",
       " '750': 626,\n",
       " 'anytime': 1006,\n",
       " 'any': 997,\n",
       " 'mins': 4441,\n",
       " 'half': 3272,\n",
       " 'price': 5349,\n",
       " 'line': 4075,\n",
       " 'rental': 5638,\n",
       " 'months': 4526,\n",
       " 'reply': 5651,\n",
       " '08000930705': 52,\n",
       " 'delivery': 2215,\n",
       " 'badrith': 1205,\n",
       " 'chennai': 1759,\n",
       " 'surely': 6560,\n",
       " 'competition': 1910,\n",
       " 'meeting': 4368,\n",
       " 'dear': 2169,\n",
       " '0776xxxxxxx': 32,\n",
       " 'invited': 3683,\n",
       " 'xchat': 7551,\n",
       " 'final': 2818,\n",
       " 'attempt': 1136,\n",
       " 'contact': 1964,\n",
       " 'chat': 1737,\n",
       " '86688': 698,\n",
       " '150p': 306,\n",
       " 'msgrcvdhg': 4567,\n",
       " 'suite342': 6521,\n",
       " '2lands': 398,\n",
       " 'row': 5769,\n",
       " 'w1j6hl': 7250,\n",
       " 'ldn': 4001,\n",
       " '18yrs': 325,\n",
       " 'storming': 6446,\n",
       " 'wen': 7369,\n",
       " 'lift': 4056,\n",
       " 'phne': 5125,\n",
       " 'say': 5861,\n",
       " 'wt': 7537,\n",
       " 'real': 5538,\n",
       " 'meaning': 4352,\n",
       " 'name': 4630,\n",
       " 'yes': 7591,\n",
       " 'dat': 2148,\n",
       " 'margaret': 4299,\n",
       " 'girlfrnd': 3106,\n",
       " 'grahmbell': 3187,\n",
       " 'invnted': 3685,\n",
       " 'telphone': 6693,\n",
       " 'moral': 4529,\n",
       " '4get': 520,\n",
       " 'damn': 2132,\n",
       " 'poor': 5249,\n",
       " 'zac': 7634,\n",
       " 'stand': 6377,\n",
       " 'chance': 1713,\n",
       " 'okey': 4865,\n",
       " 'dokey': 2374,\n",
       " 'swashbuckling': 6579,\n",
       " 'stuff': 6476,\n",
       " 'nothing': 4780,\n",
       " 'bye': 1588,\n",
       " 'area': 1057,\n",
       " 'restaurant': 5685,\n",
       " 'ill': 3578,\n",
       " 'smoke': 6195,\n",
       " 'smoked': 6196,\n",
       " 'last': 3976,\n",
       " 'two': 7015,\n",
       " 'weeks': 7355,\n",
       " 'because': 1284,\n",
       " 'calling': 1616,\n",
       " 'wanted': 7291,\n",
       " 'cant': 1639,\n",
       " 'message': 4397,\n",
       " 'networking': 4697,\n",
       " 'technical': 6679,\n",
       " 'associate': 1115,\n",
       " 'buzy': 1580,\n",
       " 'doke': 2373,\n",
       " 'dressed': 2422,\n",
       " 'laying': 3995,\n",
       " 'speak': 6301,\n",
       " 'bout': 1451,\n",
       " 'times': 6831,\n",
       " 'service': 5964,\n",
       " 'announcement': 981,\n",
       " 'recently': 5567,\n",
       " 'tried': 6964,\n",
       " 'were': 7374,\n",
       " 'unable': 7052,\n",
       " '07090298926': 25,\n",
       " 're': 5527,\n",
       " 'schedule': 5873,\n",
       " 'ref': 5589,\n",
       " '9307622': 737,\n",
       " 'eatin': 2490,\n",
       " 'goin': 3140,\n",
       " 'mountain': 4545,\n",
       " 'deer': 2193,\n",
       " 'show': 6064,\n",
       " 'huh': 3510,\n",
       " 'b4': 1185,\n",
       " 'speaking': 6302,\n",
       " 'cash': 1671,\n",
       " 'yet': 7594,\n",
       " 'mag': 4251,\n",
       " 'avo': 1167,\n",
       " 'some': 6234,\n",
       " 'point': 5230,\n",
       " 'remember': 5620,\n",
       " 'those': 6792,\n",
       " 'whom': 7407,\n",
       " 'hurt': 3525,\n",
       " 'during': 2466,\n",
       " 'days': 2158,\n",
       " 'satanic': 5846,\n",
       " 'imposter': 3597,\n",
       " 'destiny': 2248,\n",
       " 'pray': 5309,\n",
       " 'mind': 4429,\n",
       " 'over': 4966,\n",
       " 'same': 5831,\n",
       " 'am': 938,\n",
       " 'dude': 2455,\n",
       " 'saw': 5860,\n",
       " 'parked': 5027,\n",
       " 'sunroof': 6539,\n",
       " 'popped': 5252,\n",
       " 'sux': 6573,\n",
       " 'shining': 6024,\n",
       " 'meant': 4356,\n",
       " 'signing': 6097,\n",
       " 'ron': 5757,\n",
       " 'burgundy': 1559,\n",
       " 'captaining': 1646,\n",
       " 'boat': 1412,\n",
       " 'anyone': 1001,\n",
       " 'calls': 1618,\n",
       " 'treadmill': 6956,\n",
       " 'sure': 6559,\n",
       " 'found': 2935,\n",
       " 'ad': 816,\n",
       " 'craigslist': 2037,\n",
       " 'hope': 3457,\n",
       " 'well': 7367,\n",
       " 'endowed': 2559,\n",
       " 'inches': 3607,\n",
       " 'finally': 2820,\n",
       " 'match': 4319,\n",
       " 'heading': 3336,\n",
       " 'towards': 6928,\n",
       " 'prediction': 5317,\n",
       " 'boo': 1424,\n",
       " 'way': 7323,\n",
       " 'moms': 4512,\n",
       " 'tortilla': 6915,\n",
       " 'soup': 6283,\n",
       " 'yummmm': 7626,\n",
       " 'grandfather': 3191,\n",
       " 'expired': 2692,\n",
       " 'leave': 4014,\n",
       " 'leaving': 4016,\n",
       " 'qatar': 5457,\n",
       " 'tonite': 6897,\n",
       " 'search': 5902,\n",
       " 'opportunity': 4907,\n",
       " 'went': 7372,\n",
       " 'fast': 2751,\n",
       " 'add': 818,\n",
       " 'prayers': 5310,\n",
       " 'rakhesh': 5502,\n",
       " 'princess': 5353,\n",
       " 'kitty': 3905,\n",
       " 'shaved': 6006,\n",
       " 'natural': 4652,\n",
       " 'pool': 5247,\n",
       " 'together': 6874,\n",
       " 'bunch': 1553,\n",
       " 'lotto': 4166,\n",
       " 'tickets': 6822,\n",
       " 'deal': 2165,\n",
       " 'salary': 5821,\n",
       " 'driving': 2431,\n",
       " 'raining': 5493,\n",
       " 'caught': 1681,\n",
       " 'mrt': 4561,\n",
       " 'station': 6399,\n",
       " '3miles': 466,\n",
       " 'hear': 3343,\n",
       " 'mum': 4587,\n",
       " 'lookin': 4148,\n",
       " 'strong': 6465,\n",
       " 'prepare': 5325,\n",
       " 'pleasured': 5198,\n",
       " 'sorta': 6272,\n",
       " 'blown': 1402,\n",
       " 'off': 4841,\n",
       " 'id': 3556,\n",
       " 'rather': 5516,\n",
       " 'blue': 1404,\n",
       " 'looking': 4149,\n",
       " 'weed': 7349,\n",
       " 'pansy': 5006,\n",
       " 'living': 4111,\n",
       " 'jungle': 3823,\n",
       " 'years': 7583,\n",
       " 'worried': 7505,\n",
       " 'depends': 2231,\n",
       " 'quality': 5462,\n",
       " 'type': 7026,\n",
       " 'sent': 5952,\n",
       " 'boye': 1469,\n",
       " 'faded': 2718,\n",
       " 'glory': 3121,\n",
       " 'ralphs': 5505,\n",
       " 'tour': 6927,\n",
       " 'thought': 6796,\n",
       " 'sofa': 6224,\n",
       " 'curious': 2100,\n",
       " 'sugar': 6517,\n",
       " 'hiya': 3416,\n",
       " 'spoken': 6338,\n",
       " 'happens': 3295,\n",
       " '2waxsto': 419,\n",
       " 'medical': 4362,\n",
       " 'insurance': 3663,\n",
       " 'able': 765,\n",
       " 'deliver': 2212,\n",
       " 'basic': 1242,\n",
       " 'currently': 2102,\n",
       " 'shopping': 6047,\n",
       " 'major': 4267,\n",
       " 'guide': 3242,\n",
       " 'matter': 4331,\n",
       " 'saying': 5864,\n",
       " 'ready': 5537,\n",
       " 'pleasure': 5197,\n",
       " 'tunde': 6999,\n",
       " 'wishing': 7451,\n",
       " 'abiola': 763,\n",
       " 'mmmm': 4478,\n",
       " 'fair': 2726,\n",
       " 'weaknesses': 7330,\n",
       " 'grins': 3214,\n",
       " 'pushes': 5448,\n",
       " 'knee': 3908,\n",
       " 'exposes': 2700,\n",
       " 'belly': 1313,\n",
       " 'pulls': 5432,\n",
       " 'head': 3333,\n",
       " 'forget': 2916,\n",
       " 'yours': 7616,\n",
       " 'too': 6900,\n",
       " 'wicked': 7414,\n",
       " 'nimbomsons': 4728,\n",
       " 'yep': 7589,\n",
       " 'knows': 3915,\n",
       " 'obviously': 4830,\n",
       " '250': 369,\n",
       " 'wk': 7464,\n",
       " 'action': 808,\n",
       " '80608': 657,\n",
       " 'movietrivia': 4554,\n",
       " 'tv': 7008,\n",
       " 'custcare': 2106,\n",
       " '08712405022': 113,\n",
       " '1x150p': 342,\n",
       " 'watching': 7312,\n",
       " 'footie': 2906,\n",
       " 'blow': 1400,\n",
       " 'phil': 5122,\n",
       " 'neville': 4703,\n",
       " 'squatting': 6358,\n",
       " 'walking': 7277,\n",
       " 'cal': 1597,\n",
       " 'lets': 4038,\n",
       " 'bhaskar': 1342,\n",
       " 'deep': 2191,\n",
       " 'reached': 5530,\n",
       " 'tired': 6839,\n",
       " 'tomorro': 6886,\n",
       " 'logo': 4131,\n",
       " 'lover': 4178,\n",
       " 'names': 4634,\n",
       " 'joined': 3790,\n",
       " 'name1': 4631,\n",
       " 'name2': 4632,\n",
       " 'mobno': 4494,\n",
       " 'eg': 2515,\n",
       " 'adam': 817,\n",
       " 'eve': 2631,\n",
       " '07123456789': 27,\n",
       " '87077': 702,\n",
       " 'yahoo': 7570,\n",
       " 'pobox36504w45wq': 5218,\n",
       " 'txtno': 7021,\n",
       " 'ads': 838,\n",
       " 'delhi': 2210,\n",
       " 'silent': 6099,\n",
       " 'wylie': 7547,\n",
       " 'tampa': 6641,\n",
       " 'sarasota': 5839,\n",
       " 'log': 4128,\n",
       " 'sdryb8i': 5899,\n",
       " 'unsubscribed': 7103,\n",
       " 'services': 5965,\n",
       " 'tons': 6898,\n",
       " 'sexy': 5980,\n",
       " 'babes': 1193,\n",
       " 'hunks': 3519,\n",
       " 'straight': 6450,\n",
       " 'http': 3502,\n",
       " 'gotbabes': 3173,\n",
       " 'co': 1857,\n",
       " 'uk': 7041,\n",
       " 'subscriptions': 6500,\n",
       " 'trying': 6985,\n",
       " 'again': 865,\n",
       " '1000': 259,\n",
       " 'worth': 7511,\n",
       " '5000': 542,\n",
       " 'juz': 3833,\n",
       " 'dun': 2461,\n",
       " 'order': 4924,\n",
       " 'slippers': 6167,\n",
       " 'returning': 5701,\n",
       " 'lmao': 4116,\n",
       " 'fish': 2841,\n",
       " 'memory': 4384,\n",
       " 'haven': 3323,\n",
       " 'explicitly': 2697,\n",
       " 'nora': 4763,\n",
       " 'probably': 5368,\n",
       " 'picture': 5148,\n",
       " 'has': 3309,\n",
       " 'alto18': 934,\n",
       " 'wave': 7320,\n",
       " 'asp': 1110,\n",
       " '44345': 498,\n",
       " 'hmmm': 3423,\n",
       " 'dont': 2384,\n",
       " 'opener': 4901,\n",
       " 'urgent': 7124,\n",
       " '09066350750': 223,\n",
       " 'landline': 3959,\n",
       " 'complimentary': 1920,\n",
       " 'ibiza': 3543,\n",
       " '10': 257,\n",
       " '000': 1,\n",
       " 'await': 1171,\n",
       " 'collection': 1878,\n",
       " 'sae': 5812,\n",
       " 'cs': 2072,\n",
       " 'po': 5211,\n",
       " 'box': 1455,\n",
       " '434': 494,\n",
       " 'sk3': 6138,\n",
       " '8wp': 732,\n",
       " '150': 304,\n",
       " 'ppm': 5290,\n",
       " '18': 322,\n",
       " 'funny': 3017,\n",
       " 'elaine': 2530,\n",
       " 'hit': 3410,\n",
       " 'coming': 1895,\n",
       " 'lick': 4047,\n",
       " 'pussy': 5449,\n",
       " 'website': 7340,\n",
       " 'tat': 6650,\n",
       " 'vid': 7194,\n",
       " 'finishd': 2829,\n",
       " 'five': 2844,\n",
       " 'pounds': 5282,\n",
       " 'per': 5085,\n",
       " '08000776320': 50,\n",
       " 'meh': 4373,\n",
       " 'thgt': 6772,\n",
       " 'clash': 1819,\n",
       " 'seen': 5926,\n",
       " 'lost': 4160,\n",
       " 'weight': 7358,\n",
       " 'gee': 3066,\n",
       " 'dentist': 2224,\n",
       " 'painting': 4995,\n",
       " 'wall': 7279,\n",
       " 'reaching': 5531,\n",
       " 'stop': 6436,\n",
       " 'somewhere': 6249,\n",
       " 'jus': 3826,\n",
       " 'tot': 6919,\n",
       " 'sch': 5872,\n",
       " 'helloooo': 3364,\n",
       " 'wake': 7270,\n",
       " 'welcomes': 7366,\n",
       " 'enjoy': 2571,\n",
       " 'full': 3008,\n",
       " 'joy': 3806,\n",
       " 'gud': 3233,\n",
       " 'mrng': 4560,\n",
       " 'darlin': 2142,\n",
       " 'ive': 3725,\n",
       " 'finished': 2830,\n",
       " 'college': 1880,\n",
       " 'kate': 3852,\n",
       " 'xxx': 7560,\n",
       " 'mobile': 4489,\n",
       " 'mths': 4573,\n",
       " 'update': 7109,\n",
       " 'latest': 3983,\n",
       " 'camera': 1624,\n",
       " 'phones': 5131,\n",
       " 'number': 4803,\n",
       " 'extra': 2704,\n",
       " 'texts': 6730,\n",
       " 'cost': 2005,\n",
       " 'hire': 3407,\n",
       " 'hitman': 3412,\n",
       " 'wearing': 7333,\n",
       " 'shirt': 6029,\n",
       " 'black': 1374,\n",
       " 'pants': 5009,\n",
       " 'umma': 7047,\n",
       " 'called': 1610,\n",
       " 'pub': 5425,\n",
       " 'running': 5794,\n",
       " 'feeling': 2775,\n",
       " 'admit': 832,\n",
       " 'mad': 4243,\n",
       " 'correction': 2002,\n",
       " 'life': 4052,\n",
       " 'enjoying': 2574,\n",
       " 'brother': 1522,\n",
       " 'providing': 5413,\n",
       " 'assistance': 1114,\n",
       " 'through': 6806,\n",
       " 'email': 2542,\n",
       " ...}"
      ]
     },
     "execution_count": 54,
     "metadata": {},
     "output_type": "execute_result"
    }
   ],
   "source": [
    "v.vocabulary_"
   ]
  },
  {
   "cell_type": "code",
   "execution_count": 55,
   "id": "12e64d0d",
   "metadata": {},
   "outputs": [
    {
     "data": {
      "text/plain": [
       "7648"
      ]
     },
     "execution_count": 55,
     "metadata": {},
     "output_type": "execute_result"
    }
   ],
   "source": [
    "len(v.vocabulary_)"
   ]
  },
  {
   "cell_type": "code",
   "execution_count": 56,
   "id": "6a9f8e35",
   "metadata": {},
   "outputs": [
    {
     "data": {
      "text/plain": [
       "'do'"
      ]
     },
     "execution_count": 56,
     "metadata": {},
     "output_type": "execute_result"
    }
   ],
   "source": [
    "v.get_feature_names_out()[2349]"
   ]
  },
  {
   "cell_type": "code",
   "execution_count": 57,
   "id": "f543aa79",
   "metadata": {},
   "outputs": [
    {
     "data": {
      "text/plain": [
       "array([[0, 0, 0, ..., 0, 0, 0],\n",
       "       [0, 0, 0, ..., 0, 0, 0],\n",
       "       [0, 0, 0, ..., 0, 0, 0],\n",
       "       ...,\n",
       "       [0, 0, 0, ..., 0, 0, 0],\n",
       "       [0, 0, 0, ..., 0, 0, 0],\n",
       "       [0, 0, 0, ..., 0, 0, 0]], dtype=int64)"
      ]
     },
     "execution_count": 57,
     "metadata": {},
     "output_type": "execute_result"
    }
   ],
   "source": [
    "x_train_np = x_train.toarray()\n",
    "x_train_np"
   ]
  },
  {
   "cell_type": "code",
   "execution_count": 60,
   "id": "7b916f97",
   "metadata": {},
   "outputs": [
    {
     "data": {
      "text/plain": [
       "array([[0, 0, 0, ..., 0, 0, 0],\n",
       "       [0, 0, 0, ..., 0, 0, 0],\n",
       "       [0, 0, 0, ..., 0, 0, 0],\n",
       "       [0, 0, 0, ..., 0, 0, 0],\n",
       "       [0, 0, 0, ..., 0, 0, 0]], dtype=int64)"
      ]
     },
     "execution_count": 60,
     "metadata": {},
     "output_type": "execute_result"
    }
   ],
   "source": [
    "x_train_np[5:10]"
   ]
  },
  {
   "cell_type": "code",
   "execution_count": 61,
   "id": "c21b4640",
   "metadata": {},
   "outputs": [
    {
     "data": {
      "text/plain": [
       "array([0, 0, 0, ..., 0, 0, 0], dtype=int64)"
      ]
     },
     "execution_count": 61,
     "metadata": {},
     "output_type": "execute_result"
    }
   ],
   "source": [
    "x_train_np[5:10][0]"
   ]
  },
  {
   "cell_type": "code",
   "execution_count": 62,
   "id": "1289bc48",
   "metadata": {},
   "outputs": [
    {
     "data": {
      "text/plain": [
       "(array([ 959, 1092, 1628, 4348, 6946], dtype=int64),)"
      ]
     },
     "execution_count": 62,
     "metadata": {},
     "output_type": "execute_result"
    }
   ],
   "source": [
    "np.where(x_train_np[5]!=0)"
   ]
  },
  {
   "cell_type": "markdown",
   "id": "917007c9",
   "metadata": {},
   "source": [
    "**The Bag-of-Words model is a simple yet effective technique for representing text documents as numerical vectors. It involves counting the occurrences of each word in a document and representing the document as a vector of these counts.\n",
    "\n",
    "#### Advantages:\n",
    "\n",
    "- Simplicity: It's easy to understand and implement.\n",
    "- Versatility: It can be used for various NLP tasks like text classification, sentiment analysis, and topic modeling.\n",
    "- Efficiency: BoW models are computationally efficient, especially for large datasets.\n",
    "\n",
    "#### Disadvantages:\n",
    "\n",
    "- Loss of Semantic Information: BoW models ignore the order of words and their semantic relationships. This can lead to the loss of important information, especially for tasks that rely on context.\n",
    "- High Dimensionality: As the vocabulary size increases, the dimensionality of the feature space also increases, leading to sparse vectors. This can negatively impact model performance and computational efficiency.\n",
    "- Sensitivity to Stop Words: Stop words (common words like \"the,\" \"and,\" \"of\") can contribute to noise and can be detrimental to model performance.\n",
    "- Lack of Contextual Understanding: BoW models cannot capture the nuances of language, such as polysemy (words with multiple meanings) and synonymy (words with similar meanings)."
   ]
  },
  {
   "cell_type": "code",
   "execution_count": null,
   "id": "da4fb67e",
   "metadata": {},
   "outputs": [],
   "source": []
  }
 ],
 "metadata": {
  "kernelspec": {
   "display_name": "Python 3 (ipykernel)",
   "language": "python",
   "name": "python3"
  },
  "language_info": {
   "codemirror_mode": {
    "name": "ipython",
    "version": 3
   },
   "file_extension": ".py",
   "mimetype": "text/x-python",
   "name": "python",
   "nbconvert_exporter": "python",
   "pygments_lexer": "ipython3",
   "version": "3.10.9"
  }
 },
 "nbformat": 4,
 "nbformat_minor": 5
}
