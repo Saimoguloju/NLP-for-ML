{
 "cells": [
  {
   "cell_type": "markdown",
   "id": "612f2944",
   "metadata": {},
   "source": [
    "![Python logo](https://encrypted-tbn0.gstatic.com/images?q=tbn:ANd9GcSbvWsHvBf3Y1VdePjOUlAc5Uvh701h2ZWiAg&s)"
   ]
  },
  {
   "cell_type": "code",
   "execution_count": 1,
   "id": "0e2d797c",
   "metadata": {},
   "outputs": [],
   "source": [
    "from nltk.stem import WordNetLemmatizer"
   ]
  },
  {
   "cell_type": "code",
   "execution_count": 2,
   "id": "2351910f",
   "metadata": {},
   "outputs": [],
   "source": [
    "lemmatizer = WordNetLemmatizer()"
   ]
  },
  {
   "cell_type": "code",
   "execution_count": 3,
   "id": "968f45d1",
   "metadata": {},
   "outputs": [
    {
     "data": {
      "text/plain": [
       "'go'"
      ]
     },
     "execution_count": 3,
     "metadata": {},
     "output_type": "execute_result"
    }
   ],
   "source": [
    "lemmatizer.lemmatize(\"going\",pos=\"v\")"
   ]
  },
  {
   "cell_type": "code",
   "execution_count": 11,
   "id": "be25670e",
   "metadata": {},
   "outputs": [],
   "source": [
    "words = ['eating','eat','eaten','writing','writes','programming','programs','gone','goes','go']"
   ]
  },
  {
   "cell_type": "code",
   "execution_count": 5,
   "id": "7b36e0bf",
   "metadata": {},
   "outputs": [
    {
     "name": "stdout",
     "output_type": "stream",
     "text": [
      "eating----->eating\n",
      "eat----->eat\n",
      "eaten----->eaten\n",
      "writing----->writing\n",
      "writes----->writes\n",
      "programming----->programming\n",
      "programs----->program\n",
      "gone----->gone\n",
      "goes----->go\n",
      "go----->go\n"
     ]
    }
   ],
   "source": [
    "for word in words:\n",
    "    print(word+\"----->\"+lemmatizer.lemmatize(word))"
   ]
  },
  {
   "cell_type": "code",
   "execution_count": 6,
   "id": "6fdad164",
   "metadata": {},
   "outputs": [
    {
     "data": {
      "text/plain": [
       "('fairly', 'sportingly')"
      ]
     },
     "execution_count": 6,
     "metadata": {},
     "output_type": "execute_result"
    }
   ],
   "source": [
    "lemmatizer.lemmatize(\"fairly\"),lemmatizer.lemmatize(\"sportingly\")"
   ]
  },
  {
   "cell_type": "code",
   "execution_count": 12,
   "id": "c44740ee",
   "metadata": {},
   "outputs": [
    {
     "name": "stdout",
     "output_type": "stream",
     "text": [
      "eating----->eat\n",
      "eat----->eat\n",
      "eaten----->eaten\n",
      "writing----->writ\n",
      "writes----->write\n",
      "programming----->programm\n",
      "programs----->program\n",
      "gone----->gone\n",
      "goes----->goe\n",
      "go----->go\n"
     ]
    }
   ],
   "source": [
    "def rule_based_lemmatizer(word):\n",
    "    suffixes = ['ed', 'ing', 's', 'ies', 'es']\n",
    "    for suffix in suffixes:\n",
    "        if word.endswith(suffix):\n",
    "            return word[:-len(suffix)]\n",
    "    return word\n",
    "\n",
    "for word in words:\n",
    "    lemmatized_word = rule_based_lemmatizer(word)\n",
    "    print(word+ \"----->\" +lemmatized_word)"
   ]
  },
  {
   "cell_type": "code",
   "execution_count": 13,
   "id": "063e0519",
   "metadata": {},
   "outputs": [],
   "source": [
    "# Rule based is not accurate when compared to the WordNetLemmatizer"
   ]
  },
  {
   "cell_type": "code",
   "execution_count": null,
   "id": "b6de0011",
   "metadata": {},
   "outputs": [],
   "source": []
  }
 ],
 "metadata": {
  "kernelspec": {
   "display_name": "Python 3 (ipykernel)",
   "language": "python",
   "name": "python3"
  },
  "language_info": {
   "codemirror_mode": {
    "name": "ipython",
    "version": 3
   },
   "file_extension": ".py",
   "mimetype": "text/x-python",
   "name": "python",
   "nbconvert_exporter": "python",
   "pygments_lexer": "ipython3",
   "version": "3.10.9"
  }
 },
 "nbformat": 4,
 "nbformat_minor": 5
}
