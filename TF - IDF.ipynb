{
 "cells": [
  {
   "cell_type": "code",
   "execution_count": 2,
   "id": "07901f41",
   "metadata": {},
   "outputs": [],
   "source": [
    "from sklearn.feature_extraction.text import TfidfVectorizer"
   ]
  },
  {
   "cell_type": "code",
   "execution_count": 3,
   "id": "2eed54f8",
   "metadata": {},
   "outputs": [],
   "source": [
    "corpus = [\n",
    "    \"\"\"Joseph Vijay Chandrasekhar (born 22 June 1974), known professionally as Vijay, is an Indian actor and playback singer who works in Tamil cinema. In a career spanning over three decades, Vijay has acted in 68 films and is one of the most commercially successful actors in Tamil cinema with multiple films amongst the highest-grossing Tamil films of all time and is amongst the highest paid actors in India. He has won several awards as an actor. Referred to as \"Thalapathy\" (transl. commander), Vijay has a significant fan following.\n",
    "\n",
    "Born in Madras to director S. A. Chandrasekhar, Vijay made his debut as a child actor in the Tamil film Vetri (1984). After a few roles as a child actor in his father’s films, he played his first lead role in the film Naalaiya Theerpu (1992) at the age of 18. Vijay continued doing lead roles for the next few years with notable films amongst them included Poove Unakkaga, Love Today, Kadhalukku Mariyadhai, Thulladha Manamum Thullum and Kushi. In 1998, he was awarded Kalaimaamani by the Government of Tamil Nadu.\n",
    "\n",
    "In 2004, he starred in Ghilli, which became the first Tamil film to gross over ₹50 crore and with subsequent success of Thirupaachi and Pokkiri later, he established himself as one of the leading and commercially successful actors in Tamil cinema. Following a period of moderate success, Vijay acted in several critically and commercially successful films starting from early 2010s including Thuppakki, Kaththi, Mersal, Sarkar, Master, Leo and The Greatest of All Time.\n",
    "\n",
    "In February 2024, Vijay announced his retirement from films and his entry into politics with the launch of Tamilaga Vettri Kazhagam.\"\"\"\n",
    "]"
   ]
  },
  {
   "cell_type": "code",
   "execution_count": 4,
   "id": "eef1af3d",
   "metadata": {},
   "outputs": [
    {
     "name": "stdout",
     "output_type": "stream",
     "text": [
      "['Joseph Vijay Chandrasekhar (born 22 June 1974), known professionally as Vijay, is an Indian actor and playback singer who works in Tamil cinema. In a career spanning over three decades, Vijay has acted in 68 films and is one of the most commercially successful actors in Tamil cinema with multiple films amongst the highest-grossing Tamil films of all time and is amongst the highest paid actors in India. He has won several awards as an actor. Referred to as \"Thalapathy\" (transl.\\u2009commander), Vijay has a significant fan following.\\n\\nBorn in Madras to director S. A. Chandrasekhar, Vijay made his debut as a child actor in the Tamil film Vetri (1984). After a few roles as a child actor in his father’s films, he played his first lead role in the film Naalaiya Theerpu (1992) at the age of 18. Vijay continued doing lead roles for the next few years with notable films amongst them included Poove Unakkaga, Love Today, Kadhalukku Mariyadhai, Thulladha Manamum Thullum and Kushi. In 1998, he was awarded Kalaimaamani by the Government of Tamil Nadu.\\n\\nIn 2004, he starred in Ghilli, which became the first Tamil film to gross over ₹50 crore and with subsequent success of Thirupaachi and Pokkiri later, he established himself as one of the leading and commercially successful actors in Tamil cinema. Following a period of moderate success, Vijay acted in several critically and commercially successful films starting from early 2010s including Thuppakki, Kaththi, Mersal, Sarkar, Master, Leo and The Greatest of All Time.\\n\\nIn February 2024, Vijay announced his retirement from films and his entry into politics with the launch of Tamilaga Vettri Kazhagam.']\n"
     ]
    }
   ],
   "source": [
    "print(corpus)"
   ]
  },
  {
   "cell_type": "code",
   "execution_count": 6,
   "id": "6d9d4535",
   "metadata": {},
   "outputs": [
    {
     "name": "stdout",
     "output_type": "stream",
     "text": [
      "{'joseph': 71, 'vijay': 141, 'chandrasekhar': 29, 'born': 26, '22': 8, 'june': 72, '1974': 1, 'known': 77, 'professionally': 108, 'as': 21, 'is': 70, 'an': 18, 'indian': 68, 'actor': 12, 'and': 19, 'playback': 103, 'singer': 116, 'who': 144, 'works': 147, 'in': 64, 'tamil': 123, 'cinema': 31, 'career': 28, 'spanning': 117, 'over': 100, 'three': 130, 'decades': 38, 'has': 59, 'acted': 11, '68': 10, 'films': 49, 'one': 99, 'of': 98, 'the': 126, 'most': 92, 'commercially': 33, 'successful': 122, 'actors': 13, 'with': 145, 'multiple': 93, 'amongst': 17, 'highest': 61, 'grossing': 58, 'all': 16, 'time': 134, 'paid': 101, 'india': 67, 'he': 60, 'won': 146, 'several': 114, 'awards': 24, 'referred': 109, 'to': 135, 'thalapathy': 125, 'transl': 137, 'commander': 32, 'significant': 115, 'fan': 44, 'following': 51, 'madras': 86, 'director': 39, 'made': 85, 'his': 63, 'debut': 37, 'child': 30, 'film': 48, 'vetri': 139, '1984': 2, 'after': 14, 'few': 47, 'roles': 112, 'father': 45, 'played': 104, 'first': 50, 'lead': 81, 'role': 111, 'naalaiya': 94, 'theerpu': 127, '1992': 3, 'at': 22, 'age': 15, '18': 0, 'continued': 34, 'doing': 40, 'for': 52, 'next': 96, 'years': 148, 'notable': 97, 'them': 128, 'included': 65, 'poove': 107, 'unakkaga': 138, 'love': 84, 'today': 136, 'kadhalukku': 73, 'mariyadhai': 88, 'thulladha': 131, 'manamum': 87, 'thullum': 132, 'kushi': 78, '1998': 4, 'was': 142, 'awarded': 23, 'kalaimaamani': 74, 'by': 27, 'government': 55, 'nadu': 95, '2004': 5, 'starred': 118, 'ghilli': 54, 'which': 143, 'became': 25, 'gross': 57, '50': 9, 'crore': 36, 'subsequent': 120, 'success': 121, 'thirupaachi': 129, 'pokkiri': 105, 'later': 79, 'established': 43, 'himself': 62, 'leading': 82, 'period': 102, 'moderate': 91, 'critically': 35, 'starting': 119, 'from': 53, 'early': 41, '2010s': 6, 'including': 66, 'thuppakki': 133, 'kaththi': 75, 'mersal': 90, 'sarkar': 113, 'master': 89, 'leo': 83, 'greatest': 56, 'february': 46, '2024': 7, 'announced': 20, 'retirement': 110, 'entry': 42, 'into': 69, 'politics': 106, 'launch': 80, 'tamilaga': 124, 'vettri': 140, 'kazhagam': 76}\n"
     ]
    }
   ],
   "source": [
    "v = TfidfVectorizer()\n",
    "transformed_output = v.fit_transform(corpus)\n",
    "print(v.vocabulary_)"
   ]
  },
  {
   "cell_type": "code",
   "execution_count": 7,
   "id": "45b32c50",
   "metadata": {},
   "outputs": [
    {
     "data": {
      "text/plain": [
       "['__annotations__',\n",
       " '__class__',\n",
       " '__delattr__',\n",
       " '__dict__',\n",
       " '__dir__',\n",
       " '__doc__',\n",
       " '__eq__',\n",
       " '__format__',\n",
       " '__ge__',\n",
       " '__getattribute__',\n",
       " '__getstate__',\n",
       " '__gt__',\n",
       " '__hash__',\n",
       " '__init__',\n",
       " '__init_subclass__',\n",
       " '__le__',\n",
       " '__lt__',\n",
       " '__module__',\n",
       " '__ne__',\n",
       " '__new__',\n",
       " '__reduce__',\n",
       " '__reduce_ex__',\n",
       " '__repr__',\n",
       " '__setattr__',\n",
       " '__setstate__',\n",
       " '__sizeof__',\n",
       " '__str__',\n",
       " '__subclasshook__',\n",
       " '__weakref__',\n",
       " '_char_ngrams',\n",
       " '_char_wb_ngrams',\n",
       " '_check_feature_names',\n",
       " '_check_n_features',\n",
       " '_check_params',\n",
       " '_check_stop_words_consistency',\n",
       " '_check_vocabulary',\n",
       " '_count_vocab',\n",
       " '_get_param_names',\n",
       " '_get_tags',\n",
       " '_limit_features',\n",
       " '_more_tags',\n",
       " '_parameter_constraints',\n",
       " '_repr_html_',\n",
       " '_repr_html_inner',\n",
       " '_repr_mimebundle_',\n",
       " '_sort_features',\n",
       " '_stop_words_id',\n",
       " '_tfidf',\n",
       " '_validate_data',\n",
       " '_validate_ngram_range',\n",
       " '_validate_params',\n",
       " '_validate_vocabulary',\n",
       " '_warn_for_unused_params',\n",
       " '_white_spaces',\n",
       " '_word_ngrams',\n",
       " 'analyzer',\n",
       " 'binary',\n",
       " 'build_analyzer',\n",
       " 'build_preprocessor',\n",
       " 'build_tokenizer',\n",
       " 'decode',\n",
       " 'decode_error',\n",
       " 'dtype',\n",
       " 'encoding',\n",
       " 'fit',\n",
       " 'fit_transform',\n",
       " 'fixed_vocabulary_',\n",
       " 'get_feature_names_out',\n",
       " 'get_params',\n",
       " 'get_stop_words',\n",
       " 'idf_',\n",
       " 'input',\n",
       " 'inverse_transform',\n",
       " 'lowercase',\n",
       " 'max_df',\n",
       " 'max_features',\n",
       " 'min_df',\n",
       " 'ngram_range',\n",
       " 'norm',\n",
       " 'preprocessor',\n",
       " 'set_params',\n",
       " 'smooth_idf',\n",
       " 'stop_words',\n",
       " 'stop_words_',\n",
       " 'strip_accents',\n",
       " 'sublinear_tf',\n",
       " 'token_pattern',\n",
       " 'tokenizer',\n",
       " 'transform',\n",
       " 'use_idf',\n",
       " 'vocabulary',\n",
       " 'vocabulary_']"
      ]
     },
     "execution_count": 7,
     "metadata": {},
     "output_type": "execute_result"
    }
   ],
   "source": [
    "dir(v)"
   ]
  },
  {
   "cell_type": "code",
   "execution_count": 8,
   "id": "9848d5da",
   "metadata": {},
   "outputs": [
    {
     "data": {
      "text/plain": [
       "array(['18', '1974', '1984', '1992', '1998', '2004', '2010s', '2024',\n",
       "       '22', '50', '68', 'acted', 'actor', 'actors', 'after', 'age',\n",
       "       'all', 'amongst', 'an', 'and', 'announced', 'as', 'at', 'awarded',\n",
       "       'awards', 'became', 'born', 'by', 'career', 'chandrasekhar',\n",
       "       'child', 'cinema', 'commander', 'commercially', 'continued',\n",
       "       'critically', 'crore', 'debut', 'decades', 'director', 'doing',\n",
       "       'early', 'entry', 'established', 'fan', 'father', 'february',\n",
       "       'few', 'film', 'films', 'first', 'following', 'for', 'from',\n",
       "       'ghilli', 'government', 'greatest', 'gross', 'grossing', 'has',\n",
       "       'he', 'highest', 'himself', 'his', 'in', 'included', 'including',\n",
       "       'india', 'indian', 'into', 'is', 'joseph', 'june', 'kadhalukku',\n",
       "       'kalaimaamani', 'kaththi', 'kazhagam', 'known', 'kushi', 'later',\n",
       "       'launch', 'lead', 'leading', 'leo', 'love', 'made', 'madras',\n",
       "       'manamum', 'mariyadhai', 'master', 'mersal', 'moderate', 'most',\n",
       "       'multiple', 'naalaiya', 'nadu', 'next', 'notable', 'of', 'one',\n",
       "       'over', 'paid', 'period', 'playback', 'played', 'pokkiri',\n",
       "       'politics', 'poove', 'professionally', 'referred', 'retirement',\n",
       "       'role', 'roles', 'sarkar', 'several', 'significant', 'singer',\n",
       "       'spanning', 'starred', 'starting', 'subsequent', 'success',\n",
       "       'successful', 'tamil', 'tamilaga', 'thalapathy', 'the', 'theerpu',\n",
       "       'them', 'thirupaachi', 'three', 'thulladha', 'thullum',\n",
       "       'thuppakki', 'time', 'to', 'today', 'transl', 'unakkaga', 'vetri',\n",
       "       'vettri', 'vijay', 'was', 'which', 'who', 'with', 'won', 'works',\n",
       "       'years'], dtype=object)"
      ]
     },
     "execution_count": 8,
     "metadata": {},
     "output_type": "execute_result"
    }
   ],
   "source": [
    "v.get_feature_names_out()"
   ]
  },
  {
   "cell_type": "code",
   "execution_count": 12,
   "id": "4c5ea415",
   "metadata": {},
   "outputs": [
    {
     "name": "stdout",
     "output_type": "stream",
     "text": [
      "18 1.0\n",
      "1974 1.0\n",
      "1984 1.0\n",
      "1992 1.0\n",
      "1998 1.0\n",
      "2004 1.0\n",
      "2010s 1.0\n",
      "2024 1.0\n",
      "22 1.0\n",
      "50 1.0\n",
      "68 1.0\n",
      "acted 1.0\n",
      "actor 1.0\n",
      "actors 1.0\n",
      "after 1.0\n",
      "age 1.0\n",
      "all 1.0\n",
      "amongst 1.0\n",
      "an 1.0\n",
      "and 1.0\n",
      "announced 1.0\n",
      "as 1.0\n",
      "at 1.0\n",
      "awarded 1.0\n",
      "awards 1.0\n",
      "became 1.0\n",
      "born 1.0\n",
      "by 1.0\n",
      "career 1.0\n",
      "chandrasekhar 1.0\n",
      "child 1.0\n",
      "cinema 1.0\n",
      "commander 1.0\n",
      "commercially 1.0\n",
      "continued 1.0\n",
      "critically 1.0\n",
      "crore 1.0\n",
      "debut 1.0\n",
      "decades 1.0\n",
      "director 1.0\n",
      "doing 1.0\n",
      "early 1.0\n",
      "entry 1.0\n",
      "established 1.0\n",
      "fan 1.0\n",
      "father 1.0\n",
      "february 1.0\n",
      "few 1.0\n",
      "film 1.0\n",
      "films 1.0\n",
      "first 1.0\n",
      "following 1.0\n",
      "for 1.0\n",
      "from 1.0\n",
      "ghilli 1.0\n",
      "government 1.0\n",
      "greatest 1.0\n",
      "gross 1.0\n",
      "grossing 1.0\n",
      "has 1.0\n",
      "he 1.0\n",
      "highest 1.0\n",
      "himself 1.0\n",
      "his 1.0\n",
      "in 1.0\n",
      "included 1.0\n",
      "including 1.0\n",
      "india 1.0\n",
      "indian 1.0\n",
      "into 1.0\n",
      "is 1.0\n",
      "joseph 1.0\n",
      "june 1.0\n",
      "kadhalukku 1.0\n",
      "kalaimaamani 1.0\n",
      "kaththi 1.0\n",
      "kazhagam 1.0\n",
      "known 1.0\n",
      "kushi 1.0\n",
      "later 1.0\n",
      "launch 1.0\n",
      "lead 1.0\n",
      "leading 1.0\n",
      "leo 1.0\n",
      "love 1.0\n",
      "made 1.0\n",
      "madras 1.0\n",
      "manamum 1.0\n",
      "mariyadhai 1.0\n",
      "master 1.0\n",
      "mersal 1.0\n",
      "moderate 1.0\n",
      "most 1.0\n",
      "multiple 1.0\n",
      "naalaiya 1.0\n",
      "nadu 1.0\n",
      "next 1.0\n",
      "notable 1.0\n",
      "of 1.0\n",
      "one 1.0\n",
      "over 1.0\n",
      "paid 1.0\n",
      "period 1.0\n",
      "playback 1.0\n",
      "played 1.0\n",
      "pokkiri 1.0\n",
      "politics 1.0\n",
      "poove 1.0\n",
      "professionally 1.0\n",
      "referred 1.0\n",
      "retirement 1.0\n",
      "role 1.0\n",
      "roles 1.0\n",
      "sarkar 1.0\n",
      "several 1.0\n",
      "significant 1.0\n",
      "singer 1.0\n",
      "spanning 1.0\n",
      "starred 1.0\n",
      "starting 1.0\n",
      "subsequent 1.0\n",
      "success 1.0\n",
      "successful 1.0\n",
      "tamil 1.0\n",
      "tamilaga 1.0\n",
      "thalapathy 1.0\n",
      "the 1.0\n",
      "theerpu 1.0\n",
      "them 1.0\n",
      "thirupaachi 1.0\n",
      "three 1.0\n",
      "thulladha 1.0\n",
      "thullum 1.0\n",
      "thuppakki 1.0\n",
      "time 1.0\n",
      "to 1.0\n",
      "today 1.0\n",
      "transl 1.0\n",
      "unakkaga 1.0\n",
      "vetri 1.0\n",
      "vettri 1.0\n",
      "vijay 1.0\n",
      "was 1.0\n",
      "which 1.0\n",
      "who 1.0\n",
      "with 1.0\n",
      "won 1.0\n",
      "works 1.0\n",
      "years 1.0\n"
     ]
    }
   ],
   "source": [
    "all_feature_name = v.get_feature_names_out()\n",
    "\n",
    "for word in all_feature_name:\n",
    "    index = v.vocabulary_.get(word)\n",
    "    print(f\"{word} {v.idf_[index]}\")"
   ]
  },
  {
   "cell_type": "code",
   "execution_count": 13,
   "id": "a38143d5",
   "metadata": {},
   "outputs": [
    {
     "data": {
      "text/plain": [
       "['Joseph Vijay Chandrasekhar (born 22 June 1974), known professionally as Vijay, is an Indian actor and playback singer who works in Tamil cinema. In a career spanning over three decades, Vijay has acted in 68 films and is one of the most commercially successful actors in Tamil cinema with multiple films amongst the highest-grossing Tamil films of all time and is amongst the highest paid actors in India. He has won several awards as an actor. Referred to as \"Thalapathy\" (transl.\\u2009commander), Vijay has a significant fan following.\\n\\nBorn in Madras to director S. A. Chandrasekhar, Vijay made his debut as a child actor in the Tamil film Vetri (1984). After a few roles as a child actor in his father’s films, he played his first lead role in the film Naalaiya Theerpu (1992) at the age of 18. Vijay continued doing lead roles for the next few years with notable films amongst them included Poove Unakkaga, Love Today, Kadhalukku Mariyadhai, Thulladha Manamum Thullum and Kushi. In 1998, he was awarded Kalaimaamani by the Government of Tamil Nadu.\\n\\nIn 2004, he starred in Ghilli, which became the first Tamil film to gross over ₹50 crore and with subsequent success of Thirupaachi and Pokkiri later, he established himself as one of the leading and commercially successful actors in Tamil cinema. Following a period of moderate success, Vijay acted in several critically and commercially successful films starting from early 2010s including Thuppakki, Kaththi, Mersal, Sarkar, Master, Leo and The Greatest of All Time.\\n\\nIn February 2024, Vijay announced his retirement from films and his entry into politics with the launch of Tamilaga Vettri Kazhagam.']"
      ]
     },
     "execution_count": 13,
     "metadata": {},
     "output_type": "execute_result"
    }
   ],
   "source": [
    "corpus[:2]"
   ]
  },
  {
   "cell_type": "code",
   "execution_count": 14,
   "id": "d7328ca9",
   "metadata": {},
   "outputs": [
    {
     "data": {
      "text/plain": [
       "array([[0.03024753, 0.03024753, 0.03024753, 0.03024753, 0.03024753,\n",
       "        0.03024753, 0.03024753, 0.03024753, 0.03024753, 0.03024753,\n",
       "        0.03024753, 0.06049506, 0.12099012, 0.09074259, 0.03024753,\n",
       "        0.03024753, 0.06049506, 0.09074259, 0.06049506, 0.3024753 ,\n",
       "        0.03024753, 0.18148518, 0.03024753, 0.03024753, 0.03024753,\n",
       "        0.03024753, 0.06049506, 0.03024753, 0.03024753, 0.06049506,\n",
       "        0.06049506, 0.09074259, 0.03024753, 0.09074259, 0.03024753,\n",
       "        0.03024753, 0.03024753, 0.03024753, 0.03024753, 0.03024753,\n",
       "        0.03024753, 0.03024753, 0.03024753, 0.03024753, 0.03024753,\n",
       "        0.03024753, 0.03024753, 0.06049506, 0.09074259, 0.21173271,\n",
       "        0.06049506, 0.06049506, 0.03024753, 0.06049506, 0.03024753,\n",
       "        0.03024753, 0.03024753, 0.03024753, 0.03024753, 0.09074259,\n",
       "        0.15123765, 0.06049506, 0.03024753, 0.15123765, 0.45371295,\n",
       "        0.03024753, 0.03024753, 0.03024753, 0.03024753, 0.03024753,\n",
       "        0.09074259, 0.03024753, 0.03024753, 0.03024753, 0.03024753,\n",
       "        0.03024753, 0.03024753, 0.03024753, 0.03024753, 0.03024753,\n",
       "        0.03024753, 0.06049506, 0.03024753, 0.03024753, 0.03024753,\n",
       "        0.03024753, 0.03024753, 0.03024753, 0.03024753, 0.03024753,\n",
       "        0.03024753, 0.03024753, 0.03024753, 0.03024753, 0.03024753,\n",
       "        0.03024753, 0.03024753, 0.03024753, 0.27222777, 0.06049506,\n",
       "        0.06049506, 0.03024753, 0.03024753, 0.03024753, 0.03024753,\n",
       "        0.03024753, 0.03024753, 0.03024753, 0.03024753, 0.03024753,\n",
       "        0.03024753, 0.03024753, 0.06049506, 0.03024753, 0.06049506,\n",
       "        0.03024753, 0.03024753, 0.03024753, 0.03024753, 0.03024753,\n",
       "        0.03024753, 0.06049506, 0.09074259, 0.21173271, 0.03024753,\n",
       "        0.03024753, 0.36297036, 0.03024753, 0.03024753, 0.03024753,\n",
       "        0.03024753, 0.03024753, 0.03024753, 0.03024753, 0.06049506,\n",
       "        0.09074259, 0.03024753, 0.03024753, 0.03024753, 0.03024753,\n",
       "        0.03024753, 0.24198024, 0.03024753, 0.03024753, 0.03024753,\n",
       "        0.12099012, 0.03024753, 0.03024753, 0.03024753]])"
      ]
     },
     "execution_count": 14,
     "metadata": {},
     "output_type": "execute_result"
    }
   ],
   "source": [
    "transformed_output.toarray()[:2]"
   ]
  },
  {
   "cell_type": "code",
   "execution_count": null,
   "id": "ecdb4593",
   "metadata": {},
   "outputs": [],
   "source": []
  }
 ],
 "metadata": {
  "kernelspec": {
   "display_name": "Python 3 (ipykernel)",
   "language": "python",
   "name": "python3"
  },
  "language_info": {
   "codemirror_mode": {
    "name": "ipython",
    "version": 3
   },
   "file_extension": ".py",
   "mimetype": "text/x-python",
   "name": "python",
   "nbconvert_exporter": "python",
   "pygments_lexer": "ipython3",
   "version": "3.10.9"
  }
 },
 "nbformat": 4,
 "nbformat_minor": 5
}
